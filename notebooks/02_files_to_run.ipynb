{
 "cells": [
  {
   "cell_type": "markdown",
   "id": "0aeb18b9-eb39-4597-a4df-575abbd99810",
   "metadata": {},
   "source": [
    "# Preparation of train and test sets for TPZ\n",
    "\n",
    "_Authors: Andreia Dourado, Bruno Moraes_\n",
    "\n",
    "__Description: Splitting of the training set into training (70%) and test (30%) subsets, saved as .hdf5 files in a format compatible with the TPZ algorithm.__"
   ]
  },
  {
   "cell_type": "markdown",
   "id": "b6878d98-4872-4aa5-b303-d7cd2bf62db7",
   "metadata": {},
   "source": [
    "### 1. Imports"
   ]
  },
  {
   "cell_type": "code",
   "execution_count": null,
   "id": "f8cff24e-2c33-4c8e-9c25-cee7cacfb821",
   "metadata": {},
   "outputs": [],
   "source": [
    "import pandas as pd\n",
    "import tables_io\n",
    "import h5py\n",
    "import numpy as np"
   ]
  },
  {
   "cell_type": "markdown",
   "id": "d0130a9e-4991-4b4d-981f-a2af9a6fb028",
   "metadata": {},
   "source": [
    "### 2. Reading the data:"
   ]
  },
  {
   "cell_type": "code",
   "execution_count": null,
   "id": "4cf514ff-6af6-4bf0-ad7f-4e962ed2345e",
   "metadata": {},
   "outputs": [],
   "source": [
    "path_data = '../dados_tcc/training_sets/training_set.parquet'\n",
    "print(path_data)"
   ]
  },
  {
   "cell_type": "code",
   "execution_count": null,
   "id": "99cf2ed1-7fa1-42b7-ba08-f1b2e400ffab",
   "metadata": {},
   "outputs": [],
   "source": [
    "data_convert=pd.read_parquet(path_data)\n",
    "data_convert.shape"
   ]
  },
  {
   "cell_type": "markdown",
   "id": "4ae25ddd-1e0b-4520-a8d3-0907a26e0ea5",
   "metadata": {},
   "source": [
    "### 3. Train file"
   ]
  },
  {
   "cell_type": "code",
   "execution_count": null,
   "id": "3a441c51-102c-4002-a061-0c3628b7e6d0",
   "metadata": {},
   "outputs": [],
   "source": [
    "path_run = f'../dados_tcc/run_files/'\n",
    "print(path_run)"
   ]
  },
  {
   "cell_type": "markdown",
   "id": "8071478c-0a0a-4eda-8b14-b8acd0cb0cc8",
   "metadata": {},
   "source": [
    "#### 3.1 Selecting the fraction of objects for training:"
   ]
  },
  {
   "cell_type": "code",
   "execution_count": null,
   "id": "77a24db8-eed7-45d5-a7ad-fbacd9a098b7",
   "metadata": {},
   "outputs": [],
   "source": [
    "fraction = int(0.701* len(data_convert))\n",
    "fraction"
   ]
  },
  {
   "cell_type": "code",
   "execution_count": null,
   "id": "2d19e21d-56d9-4692-89fe-8414cb6afbdc",
   "metadata": {},
   "outputs": [],
   "source": [
    "training_csv = data_convert.sample(fraction,random_state=40)\n",
    "training_csv"
   ]
  },
  {
   "cell_type": "markdown",
   "id": "725c07b1-db05-41a0-b0b5-40575cd8f261",
   "metadata": {},
   "source": [
    "#### 3.2 Hdf5 file:"
   ]
  },
  {
   "cell_type": "code",
   "execution_count": null,
   "id": "9aaaf5d7-84b3-40af-b352-a9cca4548721",
   "metadata": {
    "tags": []
   },
   "outputs": [],
   "source": [
    "train_file_path =f'{path_run}train_file.hdf5'\n",
    "print(train_file_path)"
   ]
  },
  {
   "cell_type": "markdown",
   "id": "1d4df32c-baf4-4630-9039-345b61b6de14",
   "metadata": {},
   "source": [
    "##### With group:"
   ]
  },
  {
   "cell_type": "code",
   "execution_count": null,
   "id": "9f00bd22-30e4-4281-bf34-eb70f757163b",
   "metadata": {},
   "outputs": [],
   "source": [
    "with h5py.File(train_file_path, 'w') as train_file:\n",
    "    photometry_group = train_file.create_group('photometry')\n",
    "    for column in training_csv.columns:\n",
    "        photometry_group.create_dataset(column, data=training_csv[column].values)"
   ]
  },
  {
   "cell_type": "markdown",
   "id": "f761711b-946d-4293-91b7-ee57915ea8ac",
   "metadata": {},
   "source": [
    "##### Without Group:"
   ]
  },
  {
   "cell_type": "code",
   "execution_count": null,
   "id": "1f6cfdeb-72fb-4264-a879-3d363a737914",
   "metadata": {},
   "outputs": [],
   "source": [
    "with h5py.File(train_file_path, 'w') as train_file:\n",
    "    for column in training_csv.columns:\n",
    "        train_file.create_dataset(column, data=training_csv[column].values)"
   ]
  },
  {
   "cell_type": "markdown",
   "id": "a20f78f7-cc6f-42d2-8f30-283ac3759d0f",
   "metadata": {},
   "source": [
    "#### 3.3 Checking:"
   ]
  },
  {
   "cell_type": "code",
   "execution_count": null,
   "id": "c4bb911e-9e53-4c45-940c-08576827ddf7",
   "metadata": {},
   "outputs": [],
   "source": [
    "train_table = tables_io.read(train_file_path, fmt='hdf5')\n",
    "train_table"
   ]
  },
  {
   "cell_type": "code",
   "execution_count": null,
   "id": "74bc8e58-c5c4-4d6d-bd10-c36656adcc35",
   "metadata": {},
   "outputs": [],
   "source": [
    "len(train_table['mag_g'])"
   ]
  },
  {
   "cell_type": "markdown",
   "id": "e419d251-65b4-4bf8-8949-ad6dd79c7eea",
   "metadata": {},
   "source": [
    "### 4. Teste file:"
   ]
  },
  {
   "cell_type": "markdown",
   "id": "7e6652b1-fe15-42c5-9c69-8ce46ef5d793",
   "metadata": {},
   "source": [
    "#### 4.1 Selecting the remaining objects:"
   ]
  },
  {
   "cell_type": "code",
   "execution_count": null,
   "id": "3d1c891b-bcb4-471b-b5a6-3f913bda4b56",
   "metadata": {},
   "outputs": [],
   "source": [
    "validation= data_convert.drop(training_csv.index)\n",
    "validation"
   ]
  },
  {
   "cell_type": "markdown",
   "id": "ad12d353-c8a5-41b6-b548-d459727eb1d6",
   "metadata": {},
   "source": [
    "#### 4.1 Hdf5 file:"
   ]
  },
  {
   "cell_type": "code",
   "execution_count": null,
   "id": "7b5a9f73-0822-4fb1-96a5-da192e485674",
   "metadata": {},
   "outputs": [],
   "source": [
    "test_file_path = f'{path_run}test_file.hdf5'\n",
    "print(test_file_path)"
   ]
  },
  {
   "cell_type": "markdown",
   "id": "ca46a312-373b-4c1e-b748-b4812c9155f5",
   "metadata": {},
   "source": [
    "##### With group:"
   ]
  },
  {
   "cell_type": "code",
   "execution_count": null,
   "id": "53a4cba7-6ce9-42e2-b3ea-732c88cd5c62",
   "metadata": {},
   "outputs": [],
   "source": [
    "with h5py.File(test_file_path, 'w') as test_file:\n",
    "    photometry_group = test_file.create_group('photometry')\n",
    "    for column in training_csv.columns:\n",
    "        photometry_group.create_dataset(column, data=validation[column].values)"
   ]
  },
  {
   "cell_type": "markdown",
   "id": "797ecf73-daf7-40c5-9c2f-a8d3bdbc9366",
   "metadata": {},
   "source": [
    "##### Without group:"
   ]
  },
  {
   "cell_type": "code",
   "execution_count": null,
   "id": "5b9cdbfd-9db8-482e-8fc5-629f1a9ab7dd",
   "metadata": {},
   "outputs": [],
   "source": [
    "with h5py.File(test_file_path, 'w') as test_file:\n",
    "    for column in validation.columns:\n",
    "        test_file.create_dataset(column, data=validation[column].values)"
   ]
  },
  {
   "cell_type": "markdown",
   "id": "c2d8b859-27d5-4b31-82cf-7a50d360b33e",
   "metadata": {},
   "source": [
    "#### 4.2 Checking:"
   ]
  },
  {
   "cell_type": "code",
   "execution_count": null,
   "id": "247a603e-46e6-447b-a95d-9f3daafc3839",
   "metadata": {},
   "outputs": [],
   "source": [
    "test_table = tables_io.read(test_file_path, fmt='hdf5')\n",
    "test_table"
   ]
  },
  {
   "cell_type": "code",
   "execution_count": null,
   "id": "91538de5-f742-406e-ad3d-68f91249052e",
   "metadata": {},
   "outputs": [],
   "source": [
    "len(test_table['mag_g'])"
   ]
  },
  {
   "cell_type": "code",
   "execution_count": null,
   "id": "0d3a2ebf-04f1-4911-bc29-3b00fda9d310",
   "metadata": {},
   "outputs": [],
   "source": [
    "len(test_table['photometry']['mag_g'])"
   ]
  }
 ],
 "metadata": {
  "kernelspec": {
   "display_name": "data_preparation",
   "language": "python",
   "name": "data_preparation"
  },
  "language_info": {
   "codemirror_mode": {
    "name": "ipython",
    "version": 3
   },
   "file_extension": ".py",
   "mimetype": "text/x-python",
   "name": "python",
   "nbconvert_exporter": "python",
   "pygments_lexer": "ipython3",
   "version": "3.12.11"
  }
 },
 "nbformat": 4,
 "nbformat_minor": 5
}
