{
 "cells": [
  {
   "cell_type": "markdown",
   "id": "a117d8a6-67d3-4d59-a60a-005be4f74da8",
   "metadata": {},
   "source": [
    "# QA training set - DP02\n",
    "\n",
    "_Authors: Andreia Dourado, Bruno Moraes_ \\\n",
    "_Spatial distribution plot extracted from:: https://github.com/linea-it/OLD-pz-lsst-inkind/blob/main/doc/notebooks/DP02_QA_notebook_input.ipynb_\\\n",
    "\n",
    "__Description: exploratory plots for characterizing the training set data.__"
   ]
  },
  {
   "cell_type": "markdown",
   "id": "a85cf9d7-ae07-40fd-bd5d-6b049c4c4f9e",
   "metadata": {},
   "source": [
    "## Imports"
   ]
  },
  {
   "cell_type": "code",
   "execution_count": null,
   "id": "2faee709-2089-4dd5-9fe4-c8eb156cdf71",
   "metadata": {},
   "outputs": [],
   "source": [
    "# General\n",
    "import os\n",
    "import sys\n",
    "import math\n",
    "import numpy as np\n",
    "import pandas as pd\n",
    "import matplotlib.pyplot as plt\n",
    "\n",
    "# Bokeh\n",
    "import bokeh\n",
    "from bokeh.io import output_notebook\n",
    "\n",
    "# Holoviews\n",
    "import holoviews as hv\n",
    "from holoviews import opts\n",
    "\n",
    "# Geoviews\n",
    "import geoviews as gv\n",
    "import geoviews.feature as gf\n",
    "from geoviews.operation import project\n",
    "import cartopy.crs as ccrs"
   ]
  },
  {
   "cell_type": "code",
   "execution_count": null,
   "id": "52b58bb6-337c-49f7-9988-4a0d23119d8c",
   "metadata": {},
   "outputs": [],
   "source": [
    "hv.extension('bokeh')\n",
    "gv.extension('bokeh')\n",
    "output_notebook()\n",
    "%matplotlib inline"
   ]
  },
  {
   "cell_type": "markdown",
   "id": "2b79cce2-5557-40fa-9696-3d1b5ed203cd",
   "metadata": {},
   "source": [
    "## 1. Reading the data"
   ]
  },
  {
   "cell_type": "code",
   "execution_count": null,
   "id": "b35e9ee1-4456-41ad-a60c-e2cf54acc076",
   "metadata": {},
   "outputs": [],
   "source": [
    "data = pd.read_parquet('../dados_tcc/training_sets/training_set.parquet')"
   ]
  },
  {
   "cell_type": "code",
   "execution_count": null,
   "id": "94f94616-d6ae-445c-9ada-054e7b7ec607",
   "metadata": {},
   "outputs": [],
   "source": [
    "data.shape"
   ]
  },
  {
   "cell_type": "code",
   "execution_count": null,
   "id": "820ca65e-f540-4b51-bdb8-8887ff9fded6",
   "metadata": {
    "scrolled": true
   },
   "outputs": [],
   "source": [
    "data.columns"
   ]
  },
  {
   "cell_type": "code",
   "execution_count": null,
   "id": "284dca6f-6bdd-4e79-a1a5-8ffde4d706b6",
   "metadata": {},
   "outputs": [],
   "source": [
    "columns_map = {\n",
    "    'ra': 'ra_truth',\n",
    "    'dec': 'dec_truth',\n",
    "    'coord_radp02_object': 'ra',\n",
    "    'coord_decdp02_object': 'dec',\n",
    "    'redshiftdp02_truth': \"redshift\",\n",
    "    'mag_udp02_object': 'mag_u',\n",
    "    'mag_gdp02_object': 'mag_g',\n",
    "    'mag_rdp02_object': 'mag_r',\n",
    "    'mag_idp02_object': 'mag_i',\n",
    "    'mag_zdp02_object': 'mag_z',\n",
    "    'mag_ydp02_object': 'mag_y',\n",
    "    'magerr_udp02_object': 'magerr_u',\n",
    "    'magerr_gdp02_object': 'magerr_g',\n",
    "    'magerr_rdp02_object': 'magerr_r',\n",
    "    'magerr_idp02_object': 'magerr_i',\n",
    "    'magerr_zdp02_object': 'magerr_z',\n",
    "    'magerr_ydp02_object': 'magerr_y'}\n",
    "data = data.rename(columns=columns_map)"
   ]
  },
  {
   "cell_type": "markdown",
   "id": "0ab00df2-43e2-475e-96fa-a79a66762555",
   "metadata": {},
   "source": [
    "## 2. Spatial distribution\n"
   ]
  },
  {
   "cell_type": "code",
   "execution_count": null,
   "id": "fdc386ed-6962-43c6-8e68-c165a54843c1",
   "metadata": {},
   "outputs": [],
   "source": [
    "bins_ra_dec = (np.arange(48, 76, 0.056), np.arange(-46, -25, 0.042))\n",
    "\n",
    "ra = data['ra'].to_numpy()\n",
    "dec = data['dec'].to_numpy()\n",
    "histogram_ra_dec, bins_ra, bins_dec = np.histogram2d(ra, dec, bins=bins_ra_dec)"
   ]
  },
  {
   "cell_type": "code",
   "execution_count": null,
   "id": "e824f44c-ff48-40f1-b7f5-7f78d0185294",
   "metadata": {},
   "outputs": [],
   "source": [
    "### Changing the 0 values to NaN values.\n",
    "histogram_ra_dec_NaN = histogram_ra_dec.astype(float)\n",
    "histogram_ra_dec_NaN[histogram_ra_dec_NaN == 0] = np.nan\n",
    "\n",
    "### Getting the bins centers.\n",
    "bins_ra_centers = (bins_ra[1:] + bins_ra[:-1])/2\n",
    "bins_dec_centers = (bins_dec[1:] + bins_dec[:-1])/2\n",
    "\n",
    "### Plate Carrée projection - Changing the R.A. coordinates to the range [-180,180), and changing the 2d histogram counts accordingly.\n",
    "bins_ra_centers_180_range = np.where(bins_ra_centers >= 180, bins_ra_centers - 360, bins_ra_centers)\n",
    "sorted_indices_180_range = np.argsort(bins_ra_centers_180_range)\n",
    "histogram_ra_dec_180_range = histogram_ra_dec_NaN[sorted_indices_180_range, :]\n",
    "bins_ra_centers_180_range = bins_ra_centers_180_range[sorted_indices_180_range]\n",
    "\n",
    "### Mollweide projection - Inverting the R.A. values (360 - values), and changing the 2d histogram counts accordingly.\n",
    "bins_ra_centers_inverted = np.where(bins_ra_centers <= 360, 360 - bins_ra_centers, bins_ra_centers)\n",
    "sorted_indices_inverted = np.argsort(bins_ra_centers_inverted)\n",
    "histogram_ra_dec_inverted = histogram_ra_dec_NaN[sorted_indices_inverted, :]\n",
    "bins_ra_centers_inverted = bins_ra_centers_inverted[sorted_indices_inverted]\n",
    "\n",
    "### Transposing the histogram arrays for the holoviews plots.\n",
    "histogram_ra_dec_180_range_transpose = histogram_ra_dec_180_range.T\n",
    "histogram_ra_dec_inverted_transpose = histogram_ra_dec_inverted.T"
   ]
  },
  {
   "cell_type": "markdown",
   "id": "f83e2ba0-d30a-4bcb-a8bc-527dd804fa09",
   "metadata": {},
   "source": [
    "### Mollweid projection"
   ]
  },
  {
   "cell_type": "code",
   "execution_count": null,
   "id": "7012faf3-9b22-4def-9284-9c1a68f0b41c",
   "metadata": {
    "scrolled": true
   },
   "outputs": [],
   "source": [
    "### Generating the R.A. and DEC ticks\n",
    "longitudes = np.arange(30, 360, 30)\n",
    "latitudes = np.arange(-75, 76, 15)\n",
    "\n",
    "lon_labels = [f\"{lon}°\" for lon in longitudes]\n",
    "lat_labels = [f\"{lat}°\" for lat in latitudes]\n",
    "\n",
    "labels_data = {\n",
    "    \"lon\": list(np.flip(longitudes)) + [-180] * len(latitudes),\n",
    "    \"lat\": [0] * len(longitudes) + list(latitudes),\n",
    "    \"label\": lon_labels + lat_labels,\n",
    "}\n",
    "\n",
    "df_labels = pd.DataFrame(labels_data)\n",
    "\n",
    "labels_plot = gv.Labels(df_labels, kdims=[\"lon\", \"lat\"], vdims=[\"label\"]).opts(\n",
    "    text_font_size=\"12pt\",\n",
    "    text_color=\"black\",\n",
    "    text_align='right',\n",
    "    text_baseline='bottom',\n",
    "    projection=ccrs.Mollweide()\n",
    ")\n",
    "\n",
    "### Creating the image using holoviews.\n",
    "gv_image_ra_dec = gv.Image((bins_ra_centers_inverted, bins_dec_centers, histogram_ra_dec_inverted_transpose), [f'R.A.', f'DEC'], f'Counts')\n",
    "\n",
    "### Doing the Mollweide projection.\n",
    "gv_image_ra_dec_projected = gv.operation.project(gv_image_ra_dec, projection=ccrs.Mollweide())\n",
    "\n",
    "### Generating the grid lines.\n",
    "grid = gf.grid().opts(\n",
    "    opts.Feature(projection=ccrs.Mollweide(), scale='110m', color='black')\n",
    ")\n",
    "\n",
    "### Adjusting the image options.\n",
    "gv_image_ra_dec_projected = gv_image_ra_dec_projected.opts(cmap='viridis', cnorm='linear', colorbar=True, width=1000, height=500, \n",
    "                                                           clim=(10, np.nanmax(histogram_ra_dec_inverted_transpose)), \n",
    "                                                           title='Spatial Distribution of Objects - Mollweide projection', \n",
    "                                                           projection=ccrs.Mollweide(),  global_extent=True)\n",
    "\n",
    "### Showing the plot.\n",
    "combined_plot = gv_image_ra_dec_projected * grid * labels_plot\n",
    "combined_plot"
   ]
  },
  {
   "cell_type": "markdown",
   "id": "7631b390-ac1f-43bc-bd29-1d456c29078f",
   "metadata": {},
   "source": [
    "## 4. Magnitude distributions"
   ]
  },
  {
   "cell_type": "code",
   "execution_count": null,
   "id": "02bb550e-602d-4cdf-bfc0-be15e8f11477",
   "metadata": {},
   "outputs": [],
   "source": [
    "def mag_histogram(catalog, title='', sigma=0,pop='',save=0):\n",
    "    bands = ['u','g', 'r', 'i', 'z','y']\n",
    "    colors = ['purple','dodgerblue', 'darkgreen', 'deeppink','orange','red']\n",
    "    plt.figure(figsize=(13,9))\n",
    "    bins = np.linspace(9, 80, 57)\n",
    "    j=1\n",
    "    for i, (band, color) in enumerate(zip(bands,colors)):\n",
    "        plt.subplot(2,3,j)\n",
    "        plt.hist(catalog[f'mag_{band}'],bins=20, label=f'{band} band',color = color, edgecolor='white',alpha = 0.5)\n",
    "        plt.xlim(16,36)\n",
    "        plt.yscale('log')\n",
    "        plt.xlabel('mag',fontsize=20)\n",
    "        plt.ylabel('counts',fontsize=20)\n",
    "        plt.tick_params(axis='both', labelsize=15)\n",
    "        plt.legend(loc='upper right', fontsize=15)\n",
    "        #plt.grid(True)\n",
    "        j+=1\n",
    "    plt.suptitle(title)\n",
    "    plt.tight_layout()\n",
    "    plt.savefig('../dados_tcc/QA_training_set/mag_hist.pdf', format='pdf', bbox_inches='tight', dpi=300)\n",
    "    plt.show()"
   ]
  },
  {
   "cell_type": "code",
   "execution_count": null,
   "id": "ec9df0e0-d34b-4eaa-8afa-b4a46eac2b05",
   "metadata": {
    "scrolled": true
   },
   "outputs": [],
   "source": [
    "mag_histogram(data)"
   ]
  },
  {
   "cell_type": "markdown",
   "id": "485fa752-44e6-4b80-80aa-69ba78f7e8e8",
   "metadata": {},
   "source": [
    "# 5. Magnitude errors"
   ]
  },
  {
   "cell_type": "code",
   "execution_count": null,
   "id": "7c0170d6-ad96-4d32-8a96-ab2da4cc86a5",
   "metadata": {},
   "outputs": [],
   "source": [
    "def mag_err(catalog):\n",
    "    plt.figure(figsize=(20, 30))\n",
    "    bands = ['u','g', 'r', 'i', 'z','y']\n",
    "\n",
    "    for i, band in enumerate(bands, 1):\n",
    "        plt.subplot(3, 2, i)\n",
    "        \n",
    "        query = f'magerr_{band} < 2.1'\n",
    "        data = catalog.query(query)\n",
    "        mag = np.array(data[f'mag_{band}'])\n",
    "        err = np.array(data[f'magerr_{band}'])\n",
    "\n",
    "        hb = plt.hexbin(mag, err, gridsize=80, cmap='GnBu', bins='log', mincnt=1)\n",
    "        \n",
    "        plt.xlabel(f\"mag {band}\", fontsize=25)\n",
    "        if i == 1:\n",
    "            plt.ylabel(\"error\", fontsize=25)\n",
    "        plt.xlim(14,30)\n",
    "        plt.ylim(0,2.1)\n",
    "        plt.grid(True, linestyle='--', alpha=0.6)\n",
    "        cbar = plt.colorbar(hb, label='log(N)')\n",
    "        cbar.set_label('log(N)', fontsize=20)\n",
    "        cbar.ax.tick_params(labelsize=20)\n",
    "        plt.tick_params(axis='both', labelsize=20)\n",
    "\n",
    "    plt.tight_layout(rect=[0, 0, 1, 0.95])\n",
    "    plt.savefig('../dados_tcc/QA_training_set/mag_err.pdf', format='pdf', bbox_inches='tight', dpi=300)\n",
    "    plt.show()"
   ]
  },
  {
   "cell_type": "code",
   "execution_count": null,
   "id": "59c56555-0746-4334-ac5f-b45e8de57247",
   "metadata": {},
   "outputs": [],
   "source": [
    "mag_err(data)"
   ]
  },
  {
   "cell_type": "markdown",
   "id": "2b231843-af87-4dbd-8e3a-e1ab94cf229f",
   "metadata": {},
   "source": [
    "# 6. Magnitude x Color"
   ]
  },
  {
   "cell_type": "code",
   "execution_count": null,
   "id": "a7db9b61-3599-4428-a556-5349b5e4ca48",
   "metadata": {},
   "outputs": [],
   "source": [
    "def mag_color(catalog, band = 'i', color1 = 'g', color2 = 'r'):\n",
    "    color = catalog[f'mag_{color1}']-catalog[f'mag_{color2}']\n",
    "    mag = catalog[f'mag_{band}']\n",
    "   \n",
    "    plt.hexbin(color, mag, cmap='BuPu', bins='log', mincnt=1,gridsize=[400, 200])\n",
    "    plt.ylabel(\"mag \"+band,fontsize=20)\n",
    "    plt.xlabel(f\"{color1}-{color2}\",fontsize=20)\n",
    "   \n",
    "    #plt.ylim(14,30)\n",
    "    plt.xlim(-5,5)\n",
    "    plt.grid(True)\n",
    "    cbar = plt.colorbar()\n",
    "    plt.tick_params(axis='both', labelsize=12)\n",
    "    cbar.set_label('counts', fontsize=15)\n",
    "    cbar.ax.tick_params(labelsize=15)\n",
    "        \n",
    "\n",
    "    plt.savefig('../dados_tcc/QA_training_set/mag_color.pdf', format='pdf', bbox_inches='tight', dpi=300)\n",
    "    plt.show()"
   ]
  },
  {
   "cell_type": "code",
   "execution_count": null,
   "id": "e69bac79-3dfa-4fc4-8c72-38529d6d616e",
   "metadata": {},
   "outputs": [],
   "source": [
    "mag_color(data)"
   ]
  },
  {
   "cell_type": "markdown",
   "id": "d89c157b-6eeb-4c34-af78-5148c1437536",
   "metadata": {},
   "source": [
    "# 7. Color x color"
   ]
  },
  {
   "cell_type": "code",
   "execution_count": null,
   "id": "3ad3fdb8-8208-4456-b52f-1e68aedda092",
   "metadata": {},
   "outputs": [],
   "source": [
    "def color_color(catalog, sigma=0,pop='',save=0):\n",
    "    bands = ['u', 'g', 'r', 'i', 'z','y']\n",
    "    i=1\n",
    "    plt.figure(figsize=(12,12))\n",
    "    for index in range(len(bands)-2):\n",
    "        plt.subplot(3,2,i)\n",
    "        i+=1\n",
    "        color = catalog[f'mag_{bands[index+1]}']\n",
    "        next_color = catalog[f'mag_{bands[index+2]}']\n",
    "        past_color = catalog[f'mag_{bands[index]}']\n",
    "        plt.hexbin(color-next_color,past_color-color, None, mincnt=1, cmap='RdPu', gridsize=[400,200], bins='log')\n",
    "        plt.xlabel(f'{bands[index+1]}-{bands[index+2]}',fontsize=20)\n",
    "        plt.ylabel(f'{bands[index]}-{bands[index+1]}',fontsize=20)\n",
    "        plt.xlim(-5,5)\n",
    "        plt.ylim(-5,5)\n",
    "        cbar = plt.colorbar()\n",
    "        cbar.set_label('counts', fontsize=15)\n",
    "        cbar.ax.tick_params(labelsize=15)\n",
    "        plt.tick_params(axis='both', labelsize=15)  \n",
    "        \n",
    "    plt.tight_layout()\n",
    "    plt.savefig('../dados_tcc/QA_training_set/color_color.pdf', format='pdf', bbox_inches='tight', dpi=300)    \n",
    "    plt.show()"
   ]
  },
  {
   "cell_type": "code",
   "execution_count": null,
   "id": "ca93ae92-2556-4b7e-81f2-64b0b1f984e6",
   "metadata": {},
   "outputs": [],
   "source": [
    "color_color(data)"
   ]
  },
  {
   "cell_type": "markdown",
   "id": "37d1d15a-3998-458e-9a1b-efa185cddef2",
   "metadata": {},
   "source": [
    "# 8. Redshift distribution"
   ]
  },
  {
   "cell_type": "code",
   "execution_count": null,
   "id": "09afdccb-ba20-42da-9b70-d70a3fc8355a",
   "metadata": {},
   "outputs": [],
   "source": [
    "def z_hist(catalog, sigma=0,pop='',save=0):\n",
    "    plt.hist(catalog['redshift'], bins=100,density=True, color='azure', edgecolor='blue',alpha=0.7)\n",
    "    plt.ylabel(f'counts',fontsize=20)\n",
    "    plt.xlabel(f'z',fontsize=20)\n",
    "    plt.tick_params(axis='both', labelsize=15) \n",
    "    \n",
    "    plt.savefig('../dados_tcc/QA_training_set/z_hist.pdf', format='pdf', bbox_inches='tight', dpi=300)\n",
    "    plt.show()"
   ]
  },
  {
   "cell_type": "code",
   "execution_count": null,
   "id": "1b111713-dc1c-434a-851a-0b86a8152dd0",
   "metadata": {},
   "outputs": [],
   "source": [
    "z_hist(data)"
   ]
  },
  {
   "cell_type": "markdown",
   "id": "c54118f9-6758-47a6-af12-9319a4c7f4bc",
   "metadata": {},
   "source": [
    "# 9. Magnitude x redshift"
   ]
  },
  {
   "cell_type": "code",
   "execution_count": null,
   "id": "d48472aa-73ac-47a0-94a9-18fcf917a190",
   "metadata": {},
   "outputs": [],
   "source": [
    "def mag_z(catalog, band = 'i'):\n",
    "  \n",
    "    z = catalog['redshift']\n",
    "    mag = catalog[f'mag_{band}']\n",
    "   \n",
    "    plt.hexbin(z, mag, cmap='viridis', bins='log', mincnt=1,gridsize=[400, 200])\n",
    "    plt.ylabel(\"mag \"+band,fontsize=20)\n",
    "    plt.xlabel(f\"z\",fontsize=20)\n",
    "    #plt.gca().set_facecolor('black')\n",
    "  \n",
    "   # plt.ylim(14,30)\n",
    "    plt.xlim(0,3)\n",
    "    plt.grid(True)\n",
    "    cbar = plt.colorbar()\n",
    "    cbar.set_label('counts', fontsize=15)\n",
    "    cbar.ax.tick_params(labelsize=15)\n",
    "    plt.tick_params(axis='both', labelsize=15) \n",
    "    plt.savefig('../dados_tcc/QA_training_set/mag_z.pdf', format='pdf', bbox_inches='tight', dpi=300)\n",
    "    plt.show()"
   ]
  },
  {
   "cell_type": "code",
   "execution_count": null,
   "id": "45d0b934-039f-461b-ae5f-1a2ecbf58c3b",
   "metadata": {
    "scrolled": true
   },
   "outputs": [],
   "source": [
    "mag_z(data)"
   ]
  },
  {
   "cell_type": "code",
   "execution_count": null,
   "id": "a0bc24b2-813e-4a18-b460-84574c5e3c49",
   "metadata": {},
   "outputs": [],
   "source": [
    "os.system(f'jupyter nbconvert --to html 01_QA_training_set.ipynb')"
   ]
  }
 ],
 "metadata": {
  "kernelspec": {
   "display_name": "pz_compute_dev",
   "language": "python",
   "name": "pz_compute_dev"
  },
  "language_info": {
   "codemirror_mode": {
    "name": "ipython",
    "version": 3
   },
   "file_extension": ".py",
   "mimetype": "text/x-python",
   "name": "python",
   "nbconvert_exporter": "python",
   "pygments_lexer": "ipython3",
   "version": "3.11.13"
  }
 },
 "nbformat": 4,
 "nbformat_minor": 5
}
