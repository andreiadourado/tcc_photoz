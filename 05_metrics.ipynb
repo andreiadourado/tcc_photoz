{
 "cells": [
  {
   "cell_type": "markdown",
   "id": "2a1bf992-7c10-40ee-a303-0bd3077f5c92",
   "metadata": {
    "editable": true,
    "slideshow": {
     "slide_type": ""
    },
    "tags": []
   },
   "source": [
    "# Análise dos resultados - Métricas\n",
    "\n",
    "_Autores: Andreia Dourado, Bruno Moraes_\n",
    "\n",
    "_Adaptado dos notebooks(https://github.com/LSSTDESC/rail_tpz) and Demo: RAIL Evaluation notebook (https://rail-hub.readthedocs.io/projects/rail-notebooks/en/latest/rendered/evaluation_examples/Evaluation_Demo.html)_\n",
    "\n",
    "__Descrição: Análise das métricas para os resultados gerados na etapa Estimate para o TPZ.__"
   ]
  },
  {
   "cell_type": "markdown",
   "id": "3de20122-7311-4ec3-86d2-53ff1e766b7b",
   "metadata": {},
   "source": [
    "### 1. Importando as bibliotecas:"
   ]
  },
  {
   "cell_type": "code",
   "execution_count": null,
   "id": "a5d7d469-82ad-45a4-8f29-705d22ff3372",
   "metadata": {},
   "outputs": [],
   "source": [
    "import numpy as np\n",
    "import pandas as pd\n",
    "import matplotlib.pyplot as plt\n",
    "import seaborn as sns\n",
    "import rail\n",
    "import qp\n",
    "from rail.core.data import TableHandle, PqHandle, ModelHandle, QPHandle, DataHandle, Hdf5Handle\n",
    "from rail.core.stage import RailStage"
   ]
  },
  {
   "cell_type": "code",
   "execution_count": null,
   "id": "35fed25e-80d7-462b-827e-e4cfaf4e417c",
   "metadata": {
    "tags": []
   },
   "outputs": [],
   "source": [
    "DS = RailStage.data_store\n",
    "DS.__class__.allow_overwrite = True"
   ]
  },
  {
   "cell_type": "code",
   "execution_count": null,
   "id": "14e092b4-52a5-4f84-9fa9-b6c246437117",
   "metadata": {
    "tags": []
   },
   "outputs": [],
   "source": [
    "from qp import Ensemble\n",
    "from matplotlib import gridspec\n",
    "from qp import interp\n",
    "from qp.metrics.pit import PIT\n",
    "from rail.evaluation.metrics.cdeloss import *\n",
    "from rail.evaluation.evaluator import OldEvaluator\n",
    "from rail.evaluation.point_to_point_evaluator import PointToPointEvaluator\n",
    "from rail.estimation.algos.point_est_hist import PointEstHistSummarizer\n",
    "from rail.evaluation.metrics.cdeloss import *\n",
    "from utils import plot_pit_qq, ks_plot\n",
    "import os\n",
    "from rail.estimation.algos.naive_stack import NaiveStackSummarizer\n",
    "from scipy.interpolate import UnivariateSpline\n",
    "\n",
    "\n",
    "%matplotlib inline\n",
    "%reload_ext autoreload\n",
    "%autoreload "
   ]
  },
  {
   "cell_type": "markdown",
   "id": "9b4204f8-8169-4ccc-b90f-45ac77cde2ca",
   "metadata": {
    "editable": true,
    "slideshow": {
     "slide_type": ""
    },
    "tags": []
   },
   "source": [
    "### 2. Leitura dos arquivos"
   ]
  },
  {
   "cell_type": "markdown",
   "id": "5cf92554-3e79-4ade-9a4d-c58c3f6e5920",
   "metadata": {
    "tags": []
   },
   "source": [
    "##### A célula abaixo é apenas para facilitar a transicão entre os meus diretórios"
   ]
  },
  {
   "cell_type": "code",
   "execution_count": null,
   "id": "68fbe1dc-7571-41a3-a328-ce992b6ff907",
   "metadata": {},
   "outputs": [],
   "source": [
    "path_true = '../dados_tcc/run_files/'"
   ]
  },
  {
   "cell_type": "code",
   "execution_count": null,
   "id": "c76c32bf-da09-4554-bec4-e5ebdefb4993",
   "metadata": {},
   "outputs": [],
   "source": [
    "path_mode = '../dados_tcc/output/'"
   ]
  },
  {
   "cell_type": "markdown",
   "id": "aeab26b9-c8c6-49b5-91d5-f22d27f29be7",
   "metadata": {
    "tags": []
   },
   "source": [
    "#### 2.1 Arquivo de teste utilizado no estimate:"
   ]
  },
  {
   "cell_type": "code",
   "execution_count": null,
   "id": "6200ebe4-ed36-4fc7-8150-ad8e4c0d7599",
   "metadata": {
    "tags": []
   },
   "outputs": [],
   "source": [
    "ztrue_file= f'{path_true}test_file.hdf5'\n",
    "ztrue_data = DS.read_file('ztrue_data', TableHandle, ztrue_file)"
   ]
  },
  {
   "cell_type": "code",
   "execution_count": null,
   "id": "bf0b3b58-c55f-451d-b2b1-c21cf64751da",
   "metadata": {},
   "outputs": [],
   "source": [
    "pdfs_file=f'../dados_tcc/output/output_test.hdf5'\n",
    "tpzdata = DS.read_file('pdfs_data', QPHandle, pdfs_file)"
   ]
  },
  {
   "cell_type": "markdown",
   "id": "ae756220-c153-41cd-9bd1-90e9f8dfc6a3",
   "metadata": {
    "jp-MarkdownHeadingCollapsed": true
   },
   "source": [
    "#### 2.2 Multiplos arquivos:"
   ]
  },
  {
   "cell_type": "code",
   "execution_count": null,
   "id": "8c3e488b-a5aa-49f7-93b7-784da64e5762",
   "metadata": {
    "tags": []
   },
   "outputs": [],
   "source": [
    "pdfs_file1=f'../dados_tcc/output/output_test_mags+colors_minleaf30.hdf5'\n",
    "tpzdata1 = DS.read_file('pdfs_data', QPHandle, pdfs_file1)\n",
    "\n",
    "zgrid1 = tpzdata1.data[0].gen_obj.xvals\n",
    "photoz_mode1 = tpzdata1().mode(grid=zgrid1)\n",
    "z_mode1= np.squeeze(photoz_mode1)"
   ]
  },
  {
   "cell_type": "code",
   "execution_count": null,
   "id": "ddb0d736-cb38-44aa-8fec-68230d7ffb5b",
   "metadata": {
    "scrolled": true,
    "tags": []
   },
   "outputs": [],
   "source": [
    "pdfs_file2=f'../dados_tcc/output/output_test_mags_minleaf30.hdf5'\n",
    "tpzdata2 = DS.read_file('pdfs_data', QPHandle, pdfs_file2)\n",
    "\n",
    "zgrid2 = tpzdata2.data[0].gen_obj.xvals\n",
    "photoz_mode2 = tpzdata2().mode(grid=zgrid2)\n",
    "z_mode2= np.squeeze(photoz_mode2)"
   ]
  },
  {
   "cell_type": "code",
   "execution_count": null,
   "id": "372b2701-284c-449a-a224-ec9bcac41cc2",
   "metadata": {},
   "outputs": [],
   "source": [
    "pdfs_file3=f'../dados_tcc/output/output_test_colors_minleaf30.hdf5'\n",
    "tpzdata3 = DS.read_file('pdfs_data', QPHandle, pdfs_file3)\n",
    "\n",
    "zgrid3 = tpzdata3.data[0].gen_obj.xvals\n",
    "photoz_mode3 = tpzdata3().mode(grid=zgrid3)\n",
    "z_mode3= np.squeeze(photoz_mode3)"
   ]
  },
  {
   "cell_type": "code",
   "execution_count": null,
   "id": "b3afe326-a67b-4bad-90ed-ad1376333368",
   "metadata": {},
   "outputs": [],
   "source": [
    "ztrue = ztrue_data()['redshift']"
   ]
  },
  {
   "cell_type": "code",
   "execution_count": null,
   "id": "635e0e1e-f858-4188-98ee-1177f4a17d92",
   "metadata": {},
   "outputs": [],
   "source": [
    "zgrid = np.linspace(0, 3., 301)"
   ]
  },
  {
   "cell_type": "code",
   "execution_count": null,
   "id": "75bd3303-b65f-4941-9918-86152e08a0f3",
   "metadata": {},
   "outputs": [],
   "source": [
    "len(ztrue), len(z_mode1), len(z_mode2), len(z_mode3)"
   ]
  },
  {
   "cell_type": "code",
   "execution_count": null,
   "id": "7f2b355b-d702-4152-a086-bf3f03f8de65",
   "metadata": {},
   "outputs": [],
   "source": [
    "#tpzdata1 = DS.read_file('pdfs_data', QPHandle, pdfs_file)"
   ]
  },
  {
   "cell_type": "markdown",
   "id": "9c5db04e-df7e-47c5-9d41-467735a6508f",
   "metadata": {},
   "source": [
    "#### 2.3 Lendo os valores de redshift true e gerados no estimate:"
   ]
  },
  {
   "cell_type": "code",
   "execution_count": null,
   "id": "e5b350e3-1169-491b-b089-0c4c5af346b2",
   "metadata": {
    "tags": []
   },
   "outputs": [],
   "source": [
    "ztrue = ztrue_data()['redshift']\n",
    "zgrid = np.linspace(0,3,301)\n",
    "photoz_mode = tpzdata().mode(grid=zgrid)\n",
    "z_mode= np.squeeze(photoz_mode)"
   ]
  },
  {
   "cell_type": "code",
   "execution_count": null,
   "id": "88247540-7712-47ca-abfe-ad42544a88b8",
   "metadata": {
    "tags": []
   },
   "outputs": [],
   "source": [
    "truth = DS.add_data('truth', ztrue_data(), TableHandle)\n",
    "ensemble = DS.add_data('ensemble', tpzdata(), QPHandle)"
   ]
  },
  {
   "cell_type": "code",
   "execution_count": null,
   "id": "7fc35ab1-076e-4a10-b742-12285b789e67",
   "metadata": {
    "tags": []
   },
   "outputs": [],
   "source": [
    "len(z_mode), len(ztrue)"
   ]
  },
  {
   "cell_type": "markdown",
   "id": "3d201843-ee33-479b-b380-4211ad7d2688",
   "metadata": {
    "tags": []
   },
   "source": [
    "### 3. Métricas"
   ]
  },
  {
   "cell_type": "markdown",
   "id": "832f5e72-2893-48d0-8241-2fc3e03720e5",
   "metadata": {},
   "source": [
    "__Caminho para salvar as imagens:__"
   ]
  },
  {
   "cell_type": "code",
   "execution_count": null,
   "id": "9ce2711f-e0fb-4308-91f7-72fd6a98e49d",
   "metadata": {},
   "outputs": [],
   "source": [
    "path = '../dados_tcc/metrics/validation/'"
   ]
  },
  {
   "cell_type": "markdown",
   "id": "fdd32a5a-a3f7-4328-af18-d887ac196f64",
   "metadata": {
    "tags": []
   },
   "source": [
    "#### 3.1 Zphot x Ztrue"
   ]
  },
  {
   "cell_type": "code",
   "execution_count": null,
   "id": "040c4541-87f8-4d3d-b94f-98f72e4d4d6b",
   "metadata": {
    "tags": []
   },
   "outputs": [],
   "source": [
    "def plot_scatter(zphot,\n",
    "                 ztrue,\n",
    "                 zmin=0,\n",
    "                 zmax=3,\n",
    "                 bins=150,\n",
    "                 cmap='viridis',\n",
    "                 line_color='red',\n",
    "                 line_width=0.2,\n",
    "                 title='$z_{true}$ vs $z_{phot}$',\n",
    "                 xlabel='z$_{true}$',\n",
    "                 ylabel='z$_{phot}$', \n",
    "                 fontsize_title=18,\n",
    "                 fontsize_labels=15,\n",
    "                 path_to_save=''):\n",
    "\n",
    "    h = sns.histplot(x=ztrue, y=zphot, bins=bins, cmap=cmap)\n",
    "    plt.plot([0,3], [0,3], color=line_color, linewidth=line_width)\n",
    "    plt.xlim(zmin, zmax)\n",
    "    plt.ylim(zmin, zmax)\n",
    "    plt.xlabel(xlabel, fontsize=fontsize_labels)\n",
    "    plt.ylabel(ylabel, fontsize=fontsize_labels)\n",
    "    plt.title(title, fontsize=fontsize_title)\n",
    "    plt.colorbar(h.collections[0], label='Número de objetos')\n",
    "\n",
    "\n",
    "    \n",
    "    plt.savefig(f'{path}scatter_mags.png')\n",
    "    \n",
    "    plt.show()"
   ]
  },
  {
   "cell_type": "code",
   "execution_count": null,
   "id": "e9b17806-d5ae-4eca-98df-7a3874cbe645",
   "metadata": {},
   "outputs": [],
   "source": [
    "plot_scatter(z_mode,ztrue)"
   ]
  },
  {
   "cell_type": "code",
   "execution_count": null,
   "id": "ba82b8b8-69ac-4078-8996-a92c3c6afc61",
   "metadata": {},
   "outputs": [],
   "source": [
    "plt.figure(figsize=(8,8))\n",
    "plt.scatter(ztrue,z_mode4, s=1,c='k')\n",
    "plt.plot([0,3],[0,3],'b--')\n",
    "plt.axvline(x=0.45, color='red', linestyle='--', alpha=0.7, label='g to r: 0.45')\n",
    "plt.axvline(x=0.8, color='red', linestyle='--', alpha=0.7, label='r to i: 0.8')\n",
    "plt.axvline(x=1.2, color='red', linestyle='--', alpha=0.7, label='i to z: 1.2')\n",
    "plt.axvline(x=1.45, color='red', linestyle='--', alpha=0.7, label='z to y: 1.45')\n",
    "plt.xlabel(\"redshift\", fontsize=15)\n",
    "plt.ylabel(\"TPZ mode\", fontsize=15)\n",
    "plt.legend(loc='upper right')\n",
    "plt.savefig(f'{path}scatter_bands.png')"
   ]
  },
  {
   "cell_type": "code",
   "execution_count": null,
   "id": "47f095eb-7284-46a1-b408-2ba05f807f23",
   "metadata": {},
   "outputs": [],
   "source": [
    "cutcriterion_all = np.maximum(0.06, 3*ptp_stage_single.get_handle('summary')()['point_stats_iqr'][0])\n",
    "mask = (np.fabs(ez) > np.fabs(cutcriterion_all))\n",
    "points=np.linspace(0,3.3,1000)\n",
    "\n",
    "plt.scatter(ztrue[mask],zmode[mask],s=0.1,color='purple')\n",
    "plt.scatter([],[],color='purple',s=13,label='outliers')\n",
    "plt.scatter(ztrue[~mask],zmode[~mask],s=0.1,color='black')\n",
    "plt.scatter(points,points+3*ptp_stage_single.get_handle('summary')()['point_stats_iqr'][0]*(1+points),color='blue',s=0.1)\n",
    "plt.scatter(points,points-3*ptp_stage_single.get_handle('summary')()['point_stats_iqr'][0]*(1+points),color='blue',s=0.1)\n",
    "plt.xlim(0,3.1)\n",
    "plt.ylim(0,3.1)\n",
    "plt.legend(fontsize=16,loc=2)\n",
    "plt.xlabel('ztrue',fontsize=16)\n",
    "plt.ylabel('zphot',fontsize=16)\n",
    "plt.savefig(f'{path}scatter_outliers.png')"
   ]
  },
  {
   "cell_type": "markdown",
   "id": "46ef15e9-55b7-454d-b1ba-e1c401ace8ca",
   "metadata": {
    "tags": []
   },
   "source": [
    "#### 3.2. PDF individual"
   ]
  },
  {
   "cell_type": "code",
   "execution_count": null,
   "id": "0b4c9bfc-8d57-4deb-9b6d-fab64b36a90d",
   "metadata": {
    "tags": []
   },
   "outputs": [],
   "source": [
    "import random\n",
    "random.seed(60)\n",
    "numeros = random.sample(range(29912), 12)\n",
    "print(numeros)\n",
    "j=1\n",
    "fig, axs = plt.subplots(4, 3, figsize=(15, 10))\n",
    "axs = axs.flatten() \n",
    "for j, i in enumerate(numeros):\n",
    "    which= i\n",
    "    ax = axs[j]\n",
    "    tpzdata().plot_native(key=which,axes=ax, label=f\"PDF for galaxy {which}\")\n",
    "    ax.axvline(ztrue[which],c='r',ls='--', label=\"spec-z\")\n",
    "    ax.axvline(z_mode[which],c='black',ls='--', label=\"photo-z mode\")\n",
    "    ax.legend(loc='upper right', fontsize=10)\n",
    "    ax.set_xlabel(\"redshift\")\n",
    "    ax.set_title(f\"Galaxy {which}\")\n",
    "    j+=1\n",
    "plt.tight_layout()\n",
    "plt.savefig(f'{path}example_pdfs_mags.png')\n",
    "plt.show()"
   ]
  },
  {
   "cell_type": "markdown",
   "id": "d5d428ad-a786-4d16-a63e-043587cf730a",
   "metadata": {
    "tags": []
   },
   "source": [
    "#### 3.3 Métricas básicas"
   ]
  },
  {
   "cell_type": "markdown",
   "id": "fe2d4c1d-bc78-4465-833f-bc0cf0add768",
   "metadata": {},
   "source": [
    "##### Functions"
   ]
  },
  {
   "cell_type": "code",
   "execution_count": null,
   "id": "123af7b7-8740-47f2-a296-d25baf3b4d70",
   "metadata": {},
   "outputs": [],
   "source": [
    "def compute_photoz_metrics(zspec, zphot):\n",
    "    \n",
    "    delta_z = (zphot - zspec) / (1 + zspec)\n",
    "    \n",
    "\n",
    "    rms = np.sqrt(np.mean(delta_z**2))\n",
    "    \n",
    "    bias = np.mean(delta_z)\n",
    "\n",
    "    sigma = np.std(delta_z)\n",
    "    #sigma = np.sqrt(np.mean((delta_z - bias)**2))\n",
    "\n",
    "    lower = np.percentile(delta_z, 15.87)\n",
    "    upper = np.percentile(delta_z, 84.13)\n",
    "    sigma_68 = 0.5 * (upper - lower)\n",
    "\n",
    "    out_2sigma = np.sum(np.abs(delta_z) > 2 * sigma) / len(delta_z)\n",
    "\n",
    "    out_3sigma = np.sum(np.abs(delta_z) > 3 * sigma) / len(delta_z)\n",
    "\n",
    "\n",
    "    return {\n",
    "        'bias': bias,\n",
    "        'sigma_68': sigma_68,\n",
    "        'sigma': sigma,\n",
    "        'out_2sigma': out_2sigma,\n",
    "        'out_3sigma': out_3sigma,\n",
    "        'RMS': rms\n",
    "    }"
   ]
  },
  {
   "cell_type": "code",
   "execution_count": null,
   "id": "98dbbba0-988b-45fb-b566-0f66dfa0efbb",
   "metadata": {},
   "outputs": [],
   "source": [
    "def plot_metrics_bias_sep(zspec, zphot, maximum, path_to_save='', title=None, initial=0):\n",
    "    import numpy as np\n",
    "    import matplotlib.pyplot as plt\n",
    "    import seaborn as sns\n",
    "\n",
    "    sns.set_context(\"paper\", font_scale=1.3)\n",
    "    sns.set_style(\"whitegrid\")\n",
    "    plt.rcParams.update({\n",
    "        \"font.family\": \"serif\",\n",
    "        \"axes.edgecolor\": \"black\",\n",
    "        \"axes.linewidth\": 1.2,\n",
    "        \"xtick.direction\": \"in\",\n",
    "        \"ytick.direction\": \"in\",\n",
    "        \"xtick.major.size\": 5,\n",
    "        \"ytick.major.size\": 5\n",
    "    })\n",
    "\n",
    "    bins = np.arange(initial, maximum, 0.1)\n",
    "    points = bins + 0.05\n",
    "\n",
    "    bias_list = []\n",
    "    sigma_list = []\n",
    "    sigma68_list = []\n",
    "    out2_list = []\n",
    "    out3_list = []\n",
    "\n",
    "    for i in range(len(bins) - 1):\n",
    "        zmin, zmax = bins[i], bins[i + 1]\n",
    "        mask = (zphot >= zmin) & (zphot < zmax)\n",
    "        zp, zs = zphot[mask], zspec[mask]\n",
    "\n",
    "        if len(zp) == 0:\n",
    "            bias_list.append(np.nan)\n",
    "            sigma_list.append(np.nan)\n",
    "            sigma68_list.append(np.nan)\n",
    "            out2_list.append(np.nan)\n",
    "            out3_list.append(np.nan)\n",
    "            continue\n",
    "\n",
    "        dz = zp - zs\n",
    "        bias = np.mean(dz / (1 + zs))\n",
    "        sigma = np.std(dz / (1 + zs))\n",
    "        sorted_dz = np.sort(np.abs(dz / (1 + zs)))\n",
    "        sigma68 = sorted_dz[int(len(sorted_dz) * 0.68)]\n",
    "        out2 = np.mean(np.abs(dz - bias) > 2 * sigma)\n",
    "        out3 = np.mean(np.abs(dz - bias) > 3 * sigma)\n",
    "\n",
    "        bias_list.append(bias)\n",
    "        sigma_list.append(sigma)\n",
    "        sigma68_list.append(sigma68)\n",
    "        out2_list.append(out2)\n",
    "        out3_list.append(out3)\n",
    "\n",
    "\n",
    "    fig, (ax_top, ax_bot) = plt.subplots(2, 1, figsize=(10, 8), sharex=True, gridspec_kw={'height_ratios': [2, 1]})\n",
    "    plt.subplots_adjust(hspace=0.05)\n",
    "\n",
    "\n",
    "    ax_top.plot(points[:-1], sigma68_list, 'o-', label=r'$\\sigma_{68}$', color='forestgreen')\n",
    "    ax_top.plot(points[:-1], out2_list, 'o-', label=r'Outliers 2$\\sigma$', color='darkorange')\n",
    "    ax_top.plot(points[:-1], out3_list, 'o-', label=r'Outliers 3$\\sigma$', color='crimson')\n",
    "    #ax_top.axhline(0.12, linestyle='--', color='gray', lw=1, label='limite σ₆₈')\n",
    "    #ax_top.axhline(0.1, linestyle=':', color='gray', lw=1, label='limite outliers')\n",
    "    ax_top.set_ylabel(\"Métricas\", fontsize=13)\n",
    "    ax_top.set_xlim(initial, maximum)\n",
    "    ax_top.legend()\n",
    "    ax_top.grid(True)\n",
    "\n",
    "\n",
    "    ax_bot.plot(points[:-1], bias_list, 'o-', color='royalblue', label='Bias (Δz)')\n",
    "    ax_bot.fill_between(points[:-1],\n",
    "                        np.array(bias_list) - np.array(sigma_list),\n",
    "                        np.array(bias_list) + np.array(sigma_list),\n",
    "                        color='royalblue', alpha=0.2, label='±1σ')\n",
    "\n",
    "    ax_bot.axhline(0, linestyle='--', color='gray', lw=1)\n",
    "    ax_bot.set_xlabel(r'$z_{\\mathrm{spec}}$', fontsize=13)\n",
    "    ax_bot.set_ylabel(r'$\\Delta z$', fontsize=13)\n",
    "    ax_bot.set_xlim(initial, maximum)\n",
    "    ax_bot.grid(True)\n",
    "    ax_bot.legend()\n",
    "\n",
    "    if title:\n",
    "        fig.suptitle(title, fontsize=16)\n",
    "\n",
    "    plt.tight_layout(rect=[0, 0, 1, 0.96])\n",
    "\n",
    "    plt.savefig(f'{path}metrics.png', dpi=300, bbox_inches='tight')\n",
    "    plt.show()\n"
   ]
  },
  {
   "cell_type": "markdown",
   "id": "00a1211c-a4db-49a1-8a8c-53dab7cad8d4",
   "metadata": {},
   "source": [
    "##### Plots"
   ]
  },
  {
   "cell_type": "code",
   "execution_count": null,
   "id": "3a3f1801-dcbd-41f8-855c-38cf28e9dd86",
   "metadata": {},
   "outputs": [],
   "source": [
    "plot_metrics_bias_sep(ztrue, z_mode, max(z_mode))"
   ]
  },
  {
   "cell_type": "code",
   "execution_count": null,
   "id": "93eb25eb-4ed6-4192-84db-3579c78c018f",
   "metadata": {},
   "outputs": [],
   "source": [
    "compute_photoz_metrics(ztrue,z_mode)"
   ]
  },
  {
   "cell_type": "markdown",
   "id": "c1f9d905-f091-4b99-88ae-969371963a5e",
   "metadata": {
    "tags": []
   },
   "source": [
    "#### 3.4 PIT QQ"
   ]
  },
  {
   "cell_type": "code",
   "execution_count": null,
   "id": "05e8c5c6-c0fa-4663-9ab2-a98b4170739d",
   "metadata": {
    "tags": []
   },
   "outputs": [],
   "source": [
    "pitobj = PIT(tpzdata(), ztrue)\n",
    "quant_ens = pitobj.pit\n",
    "metamets = pitobj.calculate_pit_meta_metrics()"
   ]
  },
  {
   "cell_type": "code",
   "execution_count": null,
   "id": "4b921cdf-2a3e-41f3-8c68-ec59f6151b37",
   "metadata": {
    "tags": []
   },
   "outputs": [],
   "source": [
    "metamets"
   ]
  },
  {
   "cell_type": "code",
   "execution_count": null,
   "id": "cfaaeaf2-0d68-4a0a-ad23-bd3f0e89b677",
   "metadata": {
    "tags": []
   },
   "outputs": [],
   "source": [
    "pit_vals = np.array(pitobj.pit_samps)\n",
    "pit_vals"
   ]
  },
  {
   "cell_type": "code",
   "execution_count": null,
   "id": "227636be-91c5-42a1-8dec-0766c20b6821",
   "metadata": {
    "tags": []
   },
   "outputs": [],
   "source": [
    "pit_out_rate = metamets['outlier_rate']\n",
    "print(f\"PIT outlier rate of this sample: {pit_out_rate:.6f}\")\n",
    "pit_out_rate = pitobj.evaluate_PIT_outlier_rate()\n",
    "print(f\"PIT outlier rate of this sample: {pit_out_rate:.6f}\")"
   ]
  },
  {
   "cell_type": "code",
   "execution_count": null,
   "id": "eee42b59-41ae-4fd0-acac-d526231aeb85",
   "metadata": {},
   "outputs": [],
   "source": [
    "pdfs = tpzdata.data.objdata['yvals']"
   ]
  },
  {
   "cell_type": "code",
   "execution_count": null,
   "id": "c15980bf-24b1-404c-b939-cd1aecced835",
   "metadata": {},
   "outputs": [],
   "source": [
    "pdfs"
   ]
  },
  {
   "cell_type": "code",
   "execution_count": null,
   "id": "10d2e6cd-a5ce-4762-a3d6-578c3d8f4afd",
   "metadata": {},
   "outputs": [],
   "source": [
    "#qualidade de impressão\n",
    "from utils import plot_pit_qq, ks_plot\n",
    "\n",
    "plot_pit_qq(pdfs, zgrid, ztrue, title=\"PIT-QQ - toy data\", code=\"TPZ\",\n",
    "                pit_out_rate=pit_out_rate, savefig=True)"
   ]
  },
  {
   "cell_type": "markdown",
   "id": "eb1a867f-6d84-4963-8ee5-6159d30bfe21",
   "metadata": {
    "editable": true,
    "slideshow": {
     "slide_type": ""
    },
    "tags": []
   },
   "source": [
    "#### 3.5 N(z)"
   ]
  },
  {
   "cell_type": "code",
   "execution_count": null,
   "id": "0d3b3163-3cc6-4794-b140-8ff2486da2b4",
   "metadata": {
    "tags": []
   },
   "outputs": [],
   "source": [
    "stacker = NaiveStackSummarizer.make_stage(zmin=0.0, zmax=3, nzbins=301, nsamples=20, hdf5_groupname=None, output=f\"Naive_sample.hdf5\", single_NZ=f\"NaiveStack_TPZ.hdf5\")"
   ]
  },
  {
   "cell_type": "code",
   "execution_count": null,
   "id": "c380ad9e-87b0-4778-94f3-12b140b75894",
   "metadata": {
    "tags": []
   },
   "outputs": [],
   "source": [
    "naive_results = stacker.summarize(tpzdata)"
   ]
  },
  {
   "cell_type": "code",
   "execution_count": null,
   "id": "ea2d365c-ba4d-4643-aef0-8d36d8cb1d78",
   "metadata": {
    "tags": []
   },
   "outputs": [],
   "source": [
    "fig = plt.figure(figsize=(8, 6))\n",
    "\n",
    "\n",
    "plt.xlabel('redshift', fontsize=17)\n",
    "plt.ylabel('density', fontsize=17)\n",
    "#plt.grid(color='gray', linewidth=0.5)\n",
    "#plt.axvline(x=0.45, color='black', linestyle=':', alpha=0.7, label='g to r: 0.45')\n",
    "#plt.axvline(x=0.8, color='black', linestyle=':', alpha=0.7, label='r to i: 0.8')\n",
    "#plt.axvline(x=1.2, color='black', linestyle=':', alpha=0.7, label='i to z: 1.2')\n",
    "#plt.axvline(x=1.45, color='black', linestyle=':', alpha=0.7, label='z to y: 1.45')\n",
    "# Histograma do ztrue com cor sólida\n",
    "z = plt.hist(ztrue, bins=50, density=True, color='gray', label='z_true', alpha=0.5)\n",
    "# Histograma do photoz_mode com transparência\n",
    "zmode = plt.hist(photoz_mode, bins=50, density=True, color='red', label='z_phot', alpha=1, histtype='step')#, linestyle='--')\n",
    "#zmode2 = plt.hist(photoz_mode2, bins=50, density=True, color='blue', label='z_phot magnitudes', alpha=1, histtype='step', linestyle='--')\n",
    "#zmode1 = plt.hist(photoz_mode1, bins=50, density=True, color='green', label='z_phot magnitudes+cores', alpha=1, histtype='step')\n",
    "#zmode3 = plt.hist(photoz_mode3, bins=50, density=True, color='red', label='z_phot cores', alpha=1, histtype='step', linestyle='-.' )\n",
    "\n",
    "# Legenda\n",
    "plt.legend(fontsize=10)\n",
    "#plt.title('Minleaf = 30')\n",
    "\n",
    "# Salvar em alta qualidade\n",
    "plt.savefig(f'../dados_tcc/metrics/validation/hist_z_true_mags.png')\n",
    "#plt.savefig('com_SN.png')\n",
    "plt.show()"
   ]
  },
  {
   "cell_type": "code",
   "execution_count": null,
   "id": "23256311-9857-440d-90fb-c8359396e91a",
   "metadata": {
    "tags": []
   },
   "outputs": [],
   "source": [
    "cs = UnivariateSpline(zgrid[:-1], z[0])\n",
    "cs.set_smoothing_factor(0.2)"
   ]
  },
  {
   "cell_type": "code",
   "execution_count": null,
   "id": "63bb0741-e656-4134-9c42-4f51f25fdbe3",
   "metadata": {
    "scrolled": true,
    "tags": []
   },
   "outputs": [],
   "source": [
    "varinf_nz = qp.read(f\"NaiveStack_TPZ.hdf5\")\n",
    "#varinf_nz1 = qp.read(f\"NaiveStack_TPZ_1.hdf5\")\n",
    "#varinf_nz2 = qp.read(f\"NaiveStack_TPZ_2.hdf5\")\n",
    "#varinf_nz4 = qp.read(f\"../pkl-files/metricas/NaiveStack_GPZ.hdf5\")\n",
    "\n",
    "plt.plot(zgrid,varinf_nz.pdf(zgrid), color = 'red', label = 'z$_{phot}$')#, linestyle='--')\n",
    "#plt.plot(zgrid,varinf_nz1.pdf(zgrid), color = 'blue', label = 'z$_{phot}$ magnitudes+cores', linestyle='--')\n",
    "#plt.plot(zgrid,varinf_nz2.pdf(zgrid), color = 'red', label = 'z$_{phot}$ magnitudes')\n",
    "#plt.plot(zgrid,varinf_nz4.pdf(zgrid), color = 'darkorange', label = 'z$_{phot}$ GPZ', linestyle='-.')\n",
    "plt.fill_between(zgrid, cs(zgrid), color='gray', alpha=0.5, label='z$_{spec}$') #plt.plot(zgrid,cs(zgrid), color = 'gray', label = 'z$_{spec}$ PDF')\n",
    "plt.legend(fontsize = 15)\n",
    "plt.xlabel('z', fontsize=17)\n",
    "plt.ylabel('p(z)', fontsize=17)\n",
    "plt.savefig(f'../dados_tcc/metrics/validation/n(z)_mags.png')"
   ]
  }
 ],
 "metadata": {
  "kernelspec": {
   "display_name": "run_pz",
   "language": "python",
   "name": "run_pz"
  },
  "language_info": {
   "codemirror_mode": {
    "name": "ipython",
    "version": 3
   },
   "file_extension": ".py",
   "mimetype": "text/x-python",
   "name": "python",
   "nbconvert_exporter": "python",
   "pygments_lexer": "ipython3",
   "version": "3.11.13"
  }
 },
 "nbformat": 4,
 "nbformat_minor": 5
}
