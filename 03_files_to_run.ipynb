{
 "cells": [
  {
   "cell_type": "markdown",
   "id": "0aeb18b9-eb39-4597-a4df-575abbd99810",
   "metadata": {},
   "source": [
    "# Preparação dos conjuntos de treino e teste para o TPZ\n",
    "\n",
    "_Autores: Andreia Dourado, Bruno Moraes_\n",
    "\n",
    "__Descrição: Divisão do training set nos conjuntos de treino(70%) e teste(30%), salvos em arquivos .hdf5 no formato compatível com o algortimo TPZ.__"
   ]
  },
  {
   "cell_type": "markdown",
   "id": "b6878d98-4872-4aa5-b303-d7cd2bf62db7",
   "metadata": {},
   "source": [
    "### 1. Importando as bibliotecas"
   ]
  },
  {
   "cell_type": "code",
   "execution_count": null,
   "id": "f8cff24e-2c33-4c8e-9c25-cee7cacfb821",
   "metadata": {},
   "outputs": [],
   "source": [
    "import pandas as pd\n",
    "import tables_io\n",
    "import h5py\n",
    "import numpy as np"
   ]
  },
  {
   "cell_type": "markdown",
   "id": "d0130a9e-4991-4b4d-981f-a2af9a6fb028",
   "metadata": {},
   "source": [
    "### 2. Lendo o arquivo com os dados:"
   ]
  },
  {
   "cell_type": "code",
   "execution_count": null,
   "id": "4cf514ff-6af6-4bf0-ad7f-4e962ed2345e",
   "metadata": {},
   "outputs": [],
   "source": [
    "path_data = '../dados_tcc/training_sets/training_set.parquet'\n",
    "print(path_data)"
   ]
  },
  {
   "cell_type": "code",
   "execution_count": null,
   "id": "99cf2ed1-7fa1-42b7-ba08-f1b2e400ffab",
   "metadata": {},
   "outputs": [],
   "source": [
    "data_convert=pd.read_parquet(path_data)\n",
    "data_convert.shape"
   ]
  },
  {
   "cell_type": "markdown",
   "id": "ec50607b-4165-4700-ad50-fa3715ddbb78",
   "metadata": {
    "tags": []
   },
   "source": [
    "##### Renomeando e selecionando as colunas de interesse:"
   ]
  },
  {
   "cell_type": "code",
   "execution_count": null,
   "id": "9d65ac4b-f92b-4fbe-9f1f-bda0c617a765",
   "metadata": {},
   "outputs": [],
   "source": [
    "data_convert.columns"
   ]
  },
  {
   "cell_type": "code",
   "execution_count": null,
   "id": "0ce84e9a-5432-42c9-b416-2d91d887b6fd",
   "metadata": {},
   "outputs": [],
   "source": [
    "columns_map = {\n",
    "    'coord_radp02_object': 'ra',\n",
    "    'coord_decdp02_object': 'dec',\n",
    "    'redshiftdp02_truth': \"redshift\",\n",
    "    'mag_udp02_object': 'mag_u',\n",
    "    'mag_gdp02_object': 'mag_g',\n",
    "    'mag_rdp02_object': 'mag_r',\n",
    "    'mag_idp02_object': 'mag_i',\n",
    "    'mag_zdp02_object': 'mag_z',\n",
    "    'mag_ydp02_object': 'mag_y',\n",
    "    'magerr_udp02_object': 'magerr_u',\n",
    "    'magerr_gdp02_object': 'magerr_g',\n",
    "    'magerr_rdp02_object': 'magerr_r',\n",
    "    'magerr_idp02_object': 'magerr_i',\n",
    "    'magerr_zdp02_object': 'magerr_z',\n",
    "    'magerr_ydp02_object': 'magerr_y'}\n",
    "\n",
    "data_convert = data_convert.rename(columns=columns_map)"
   ]
  },
  {
   "cell_type": "code",
   "execution_count": null,
   "id": "c3dc804f-0ded-468e-9dbe-b251430ab92a",
   "metadata": {
    "scrolled": true
   },
   "outputs": [],
   "source": [
    "data_convert.columns"
   ]
  },
  {
   "cell_type": "code",
   "execution_count": null,
   "id": "798eae2b-1f35-4962-901d-905d35037360",
   "metadata": {
    "scrolled": true
   },
   "outputs": [],
   "source": [
    "data_convert = data_convert[['redshift','mag_u','mag_g','mag_r','mag_i','mag_z','mag_y','magerr_u', 'magerr_g',\n",
    "       'magerr_r', 'magerr_i', 'magerr_z', 'magerr_y', 'u-g', 'g-r', 'r-i', 'i-z', 'z-y','u-g_err', 'g-r_err', 'r-i_err', 'i-z_err', 'z-y_err']]\n",
    "data_convert"
   ]
  },
  {
   "cell_type": "markdown",
   "id": "4ae25ddd-1e0b-4520-a8d3-0907a26e0ea5",
   "metadata": {},
   "source": [
    "### 3. Arquivo de treino"
   ]
  },
  {
   "cell_type": "markdown",
   "id": "9b1dba18-1c55-40f5-888d-35294e9639e6",
   "metadata": {},
   "source": [
    "Caminho onde serão salvos os arquivos:"
   ]
  },
  {
   "cell_type": "code",
   "execution_count": null,
   "id": "3a441c51-102c-4002-a061-0c3628b7e6d0",
   "metadata": {},
   "outputs": [],
   "source": [
    "path_run = f'../dados_tcc/run_files/'\n",
    "print(path_run)"
   ]
  },
  {
   "cell_type": "markdown",
   "id": "8071478c-0a0a-4eda-8b14-b8acd0cb0cc8",
   "metadata": {},
   "source": [
    "#### 3.1 Selecionando a fração de objetos para o treino:"
   ]
  },
  {
   "cell_type": "code",
   "execution_count": null,
   "id": "77a24db8-eed7-45d5-a7ad-fbacd9a098b7",
   "metadata": {},
   "outputs": [],
   "source": [
    "fraction = int(0.701* len(data_convert))\n",
    "fraction"
   ]
  },
  {
   "cell_type": "code",
   "execution_count": null,
   "id": "2d19e21d-56d9-4692-89fe-8414cb6afbdc",
   "metadata": {},
   "outputs": [],
   "source": [
    "training_csv = data_convert.sample(fraction,random_state=40)\n",
    "training_csv"
   ]
  },
  {
   "cell_type": "markdown",
   "id": "725c07b1-db05-41a0-b0b5-40575cd8f261",
   "metadata": {},
   "source": [
    "#### 3.2 Criando o aqrquivo .hdf5:"
   ]
  },
  {
   "cell_type": "code",
   "execution_count": null,
   "id": "9aaaf5d7-84b3-40af-b352-a9cca4548721",
   "metadata": {
    "tags": []
   },
   "outputs": [],
   "source": [
    "train_file_path =f'{path_run}train_file.hdf5'\n",
    "print(train_file_path)"
   ]
  },
  {
   "cell_type": "markdown",
   "id": "1d4df32c-baf4-4630-9039-345b61b6de14",
   "metadata": {},
   "source": [
    "##### Com grupo photometry"
   ]
  },
  {
   "cell_type": "code",
   "execution_count": null,
   "id": "9f00bd22-30e4-4281-bf34-eb70f757163b",
   "metadata": {},
   "outputs": [],
   "source": [
    "with h5py.File(train_file_path, 'w') as train_file:\n",
    "    photometry_group = train_file.create_group('photometry')\n",
    "    for column in training_csv.columns:\n",
    "        photometry_group.create_dataset(column, data=training_csv[column].values)"
   ]
  },
  {
   "cell_type": "markdown",
   "id": "f761711b-946d-4293-91b7-ee57915ea8ac",
   "metadata": {},
   "source": [
    "##### Sem grupo photometry"
   ]
  },
  {
   "cell_type": "code",
   "execution_count": null,
   "id": "1f6cfdeb-72fb-4264-a879-3d363a737914",
   "metadata": {},
   "outputs": [],
   "source": [
    "with h5py.File(train_file_path, 'w') as train_file:\n",
    "    for column in training_csv.columns:\n",
    "        train_file.create_dataset(column, data=training_csv[column].values)"
   ]
  },
  {
   "cell_type": "markdown",
   "id": "a20f78f7-cc6f-42d2-8f30-283ac3759d0f",
   "metadata": {},
   "source": [
    "#### 3.3 Verificando o arquivo:"
   ]
  },
  {
   "cell_type": "code",
   "execution_count": null,
   "id": "c4bb911e-9e53-4c45-940c-08576827ddf7",
   "metadata": {},
   "outputs": [],
   "source": [
    "train_table = tables_io.read(train_file_path, fmt='hdf5')\n",
    "train_table"
   ]
  },
  {
   "cell_type": "code",
   "execution_count": null,
   "id": "74bc8e58-c5c4-4d6d-bd10-c36656adcc35",
   "metadata": {},
   "outputs": [],
   "source": [
    "len(train_table['mag_g'])"
   ]
  },
  {
   "cell_type": "markdown",
   "id": "e419d251-65b4-4bf8-8949-ad6dd79c7eea",
   "metadata": {},
   "source": [
    "### 4. Arquivo de teste"
   ]
  },
  {
   "cell_type": "markdown",
   "id": "7e6652b1-fe15-42c5-9c69-8ce46ef5d793",
   "metadata": {},
   "source": [
    "#### 4.1 Selecionando os objetos restantes:"
   ]
  },
  {
   "cell_type": "code",
   "execution_count": null,
   "id": "3d1c891b-bcb4-471b-b5a6-3f913bda4b56",
   "metadata": {},
   "outputs": [],
   "source": [
    "validation= data_convert.drop(training_csv.index)\n",
    "validation"
   ]
  },
  {
   "cell_type": "markdown",
   "id": "ad12d353-c8a5-41b6-b548-d459727eb1d6",
   "metadata": {},
   "source": [
    "#### 4.1 Criando o arquivo .hdf5:"
   ]
  },
  {
   "cell_type": "code",
   "execution_count": null,
   "id": "7b5a9f73-0822-4fb1-96a5-da192e485674",
   "metadata": {},
   "outputs": [],
   "source": [
    "test_file_path = f'{path_run}test_file.hdf5'\n",
    "print(test_file_path)"
   ]
  },
  {
   "cell_type": "markdown",
   "id": "ca46a312-373b-4c1e-b748-b4812c9155f5",
   "metadata": {},
   "source": [
    "##### Com grupo photometry"
   ]
  },
  {
   "cell_type": "code",
   "execution_count": null,
   "id": "53a4cba7-6ce9-42e2-b3ea-732c88cd5c62",
   "metadata": {},
   "outputs": [],
   "source": [
    "with h5py.File(test_file_path, 'w') as test_file:\n",
    "    photometry_group = test_file.create_group('photometry')\n",
    "    for column in training_csv.columns:\n",
    "        photometry_group.create_dataset(column, data=validation[column].values)"
   ]
  },
  {
   "cell_type": "markdown",
   "id": "797ecf73-daf7-40c5-9c2f-a8d3bdbc9366",
   "metadata": {},
   "source": [
    "##### Sem grupo photometry"
   ]
  },
  {
   "cell_type": "code",
   "execution_count": null,
   "id": "5b9cdbfd-9db8-482e-8fc5-629f1a9ab7dd",
   "metadata": {},
   "outputs": [],
   "source": [
    "with h5py.File(test_file_path, 'w') as test_file:\n",
    "    for column in validation.columns:\n",
    "        test_file.create_dataset(column, data=validation[column].values)"
   ]
  },
  {
   "cell_type": "markdown",
   "id": "c2d8b859-27d5-4b31-82cf-7a50d360b33e",
   "metadata": {},
   "source": [
    "#### 4.2 Verificando o arquivo:"
   ]
  },
  {
   "cell_type": "code",
   "execution_count": null,
   "id": "247a603e-46e6-447b-a95d-9f3daafc3839",
   "metadata": {},
   "outputs": [],
   "source": [
    "test_table = tables_io.read(test_file_path, fmt='hdf5')\n",
    "test_table"
   ]
  },
  {
   "cell_type": "code",
   "execution_count": null,
   "id": "91538de5-f742-406e-ad3d-68f91249052e",
   "metadata": {},
   "outputs": [],
   "source": [
    "len(test_table['mag_g'])"
   ]
  },
  {
   "cell_type": "code",
   "execution_count": null,
   "id": "0d3a2ebf-04f1-4911-bc29-3b00fda9d310",
   "metadata": {},
   "outputs": [],
   "source": [
    "len(test_table['photometry']['mag_g'])"
   ]
  }
 ],
 "metadata": {
  "kernelspec": {
   "display_name": "data_preparation",
   "language": "python",
   "name": "data_preparation"
  },
  "language_info": {
   "codemirror_mode": {
    "name": "ipython",
    "version": 3
   },
   "file_extension": ".py",
   "mimetype": "text/x-python",
   "name": "python",
   "nbconvert_exporter": "python",
   "pygments_lexer": "ipython3",
   "version": "3.12.11"
  }
 },
 "nbformat": 4,
 "nbformat_minor": 5
}
