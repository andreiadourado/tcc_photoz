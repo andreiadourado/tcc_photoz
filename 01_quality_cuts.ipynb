{
 "cells": [
  {
   "cell_type": "markdown",
   "id": "b958b221-6ce4-442b-98fe-b01bfb44ced4",
   "metadata": {},
   "source": [
    "# Tratamento dos dados\n",
    "\n",
    "Este notebook contém todos os cortes e flags de qualidade aplicados aos dados resultantes do cross-matching espacial, para gerar o training set final."
   ]
  },
  {
   "cell_type": "markdown",
   "id": "697a1ca2-5687-443a-bbe2-f423b69df452",
   "metadata": {
    "jp-MarkdownHeadingCollapsed": true
   },
   "source": [
    "## 1. Importando as bibliotecas"
   ]
  },
  {
   "cell_type": "code",
   "execution_count": null,
   "id": "931a79f1-9948-4143-a933-a0280bb53021",
   "metadata": {},
   "outputs": [],
   "source": [
    "import pandas as pd\n",
    "import matplotlib.pyplot as plt\n",
    "import numpy as np"
   ]
  },
  {
   "cell_type": "markdown",
   "id": "fa0d710f-3251-4e65-989c-43f1a31235a6",
   "metadata": {
    "jp-MarkdownHeadingCollapsed": true
   },
   "source": [
    "## 2. Lendo os dados"
   ]
  },
  {
   "cell_type": "code",
   "execution_count": null,
   "id": "fb3f75c2-7e07-48a2-8fa3-cd03dac9a637",
   "metadata": {},
   "outputs": [],
   "source": [
    "df = pd.read_parquet('../dados_tcc/training_sets/xmatching_tcc.parquet')"
   ]
  },
  {
   "cell_type": "code",
   "execution_count": null,
   "id": "e62cf359-835a-4819-8412-14131c828fdc",
   "metadata": {},
   "outputs": [],
   "source": [
    "df.columns"
   ]
  },
  {
   "cell_type": "code",
   "execution_count": null,
   "id": "d242b179-0147-453c-88be-f824670ae99a",
   "metadata": {},
   "outputs": [],
   "source": [
    "df.shape"
   ]
  },
  {
   "cell_type": "markdown",
   "id": "23ccaf4b-0713-4a09-a94f-ca6b23d84bec",
   "metadata": {
    "jp-MarkdownHeadingCollapsed": true
   },
   "source": [
    "## 3. Funções"
   ]
  },
  {
   "cell_type": "code",
   "execution_count": null,
   "id": "eb37216a-b815-4969-9fe9-00c72d8c68f5",
   "metadata": {},
   "outputs": [],
   "source": [
    "def z_hist(catalog, sigma=0,pop='',save=0):\n",
    "    plt.hist(catalog['redshiftdp02_truth'], bins=301,density=True, color='azure', edgecolor='blue',alpha=0.7)\n",
    "    plt.ylabel(f'counts',fontsize=13)\n",
    "    plt.xlabel(f'z',fontsize=13)\n",
    "    plt.show()"
   ]
  },
  {
   "cell_type": "code",
   "execution_count": null,
   "id": "9117794d-de06-408b-8f76-2210254d52cc",
   "metadata": {},
   "outputs": [],
   "source": [
    "def spatial_distribution(catalog, sigma=0, save=0, pop=''):\n",
    "    plt.hist2d(catalog['coord_radp02_object'], catalog['coord_decdp02_object'], bins=100)\n",
    "    plt.xlabel('RA [deg]')\n",
    "    plt.ylabel('Dec [deg]')\n",
    "    plt.colorbar()"
   ]
  },
  {
   "cell_type": "code",
   "execution_count": null,
   "id": "6af982e4-3180-4e30-a4c3-0b635bde7eed",
   "metadata": {},
   "outputs": [],
   "source": [
    "def mag_histogram(catalog, title='DP0.2', sigma=0,pop='',save=0):\n",
    "    bands = ['u','g', 'r', 'i', 'z','y']\n",
    "    colors = ['purple','dodgerblue', 'darkgreen', 'deeppink','orange','red']\n",
    "    plt.figure(figsize=(13,9))\n",
    "    bins = np.linspace(9, 100, 57)\n",
    "    j=1\n",
    "    for i, (band, color) in enumerate(zip(bands,colors)):\n",
    "        plt.subplot(2,3,j)\n",
    "        plt.hist(catalog[f'mag_{band}dp02_object'],bins=bins, label=f'{band} band',color = color, edgecolor = 'white', alpha = 0.5)\n",
    "        #plt.xlim(12,40)\n",
    "        plt.yscale('log')\n",
    "        plt.xlabel('mag',fontsize=13)\n",
    "        plt.ylabel('counts',fontsize=13)\n",
    "        plt.legend(loc=2)\n",
    "        #plt.grid(True)\n",
    "        j+=1\n",
    "    plt.suptitle(title)\n",
    "    #plt.savefig(f'mag_hist.png', dpi=300, bbox_inches='tight')\n",
    "    plt.show()"
   ]
  },
  {
   "cell_type": "code",
   "execution_count": null,
   "id": "e0be1a32-ef98-4851-a531-469525baaedb",
   "metadata": {},
   "outputs": [],
   "source": [
    "def mag_error(catalog):\n",
    "    plt.figure(figsize=(20, 30))\n",
    "    bands = ['u','g', 'r', 'i', 'z','y']\n",
    "\n",
    "    for i, band in enumerate(bands, 1):\n",
    "        plt.subplot(3, 2, i)\n",
    "        \n",
    "        #query = f'mag_{band}dp02_object < 30.'\n",
    "        #data = catalog.query(query)\n",
    "        data=catalog\n",
    "        mag = np.array(data[f'mag_{band}dp02_object'])\n",
    "        err = np.array(data[f'magerr_{band}dp02_object'])\n",
    "\n",
    "        hb = plt.hexbin(mag, err, gridsize=80, cmap='GnBu', bins='log', mincnt=1)\n",
    "        \n",
    "        plt.xlabel(f\"mag {band}\", fontsize=20)\n",
    "        if i == 1:\n",
    "            plt.ylabel(\"error\", fontsize=20)\n",
    "        #plt.xlim(14,25)\n",
    "        #plt.ylim(0,20)\n",
    "        plt.grid(True, linestyle='--', alpha=0.6)\n",
    "        plt.colorbar(hb, label='log(N)')  \n",
    "\n",
    "    plt.tight_layout(rect=[0, 0, 1, 0.95])  \n",
    "    #plt.savefig(f'{path}erros.png')\n",
    "    plt.show()"
   ]
  },
  {
   "cell_type": "code",
   "execution_count": null,
   "id": "60b871c8-cf1d-4ef8-b9eb-d82ea79645a3",
   "metadata": {},
   "outputs": [],
   "source": [
    "def mag_z(catalog, band = 'i'):\n",
    "  \n",
    "    z = catalog['redshiftdp02_truth']\n",
    "    mag = catalog[f'mag_{band}dp02_object']\n",
    "   \n",
    "    plt.hexbin(z, mag, cmap='viridis', bins='log', mincnt=1,gridsize=[400, 200])\n",
    "    plt.ylabel(\"mag \"+band,fontsize=13)\n",
    "    plt.xlabel(f\"z\",fontsize=13)\n",
    "    #plt.gca().set_facecolor('black')\n",
    "  \n",
    "    #plt.ylim(14,30)\n",
    "    plt.xlim(0,3)\n",
    "    plt.grid(True)\n",
    "    plt.colorbar()\n",
    "    plt.savefig('mag_z.png')\n",
    "    plt.show()"
   ]
  },
  {
   "cell_type": "code",
   "execution_count": null,
   "id": "e3e5e620-585b-4b6e-9b80-bc21b21c5a21",
   "metadata": {},
   "outputs": [],
   "source": [
    "def color_color(catalog, sigma=0,pop='',save=0):\n",
    "    bands = ['u', 'g', 'r', 'i', 'z','y']\n",
    "    i=1\n",
    "    plt.figure(figsize=(12,12))\n",
    "    for index in range(len(bands)-2):\n",
    "        plt.subplot(3,2,i)\n",
    "        i+=1\n",
    "        color = catalog[f'mag_{bands[index+1]}dp02_object']\n",
    "        next_color = catalog[f'mag_{bands[index+2]}dp02_object']\n",
    "        past_color = catalog[f'mag_{bands[index]}dp02_object']\n",
    "        plt.hexbin(color-next_color,past_color-color, None, mincnt=1, cmap='RdPu', gridsize=[400,200], bins='log')\n",
    "        plt.xlabel(f'{bands[index+1]}-{bands[index+2]}',fontsize=13)\n",
    "        plt.ylabel(f'{bands[index]}-{bands[index+1]}',fontsize=13)\n",
    "        #plt.xlim(-10,10)\n",
    "        #plt.ylim(-10,10)\n",
    "        plt.colorbar()\n",
    "    #plt.savefig('../QA_training_set/color_color.png')    \n",
    "    plt.show()"
   ]
  },
  {
   "cell_type": "markdown",
   "id": "34288709-84e2-40a6-944e-a1f394929ae5",
   "metadata": {
    "jp-MarkdownHeadingCollapsed": true
   },
   "source": [
    "## 4. Região WFD \n",
    "\n",
    "Seleção da região da simulação DC2 onde foi aplicada a estratégia de observação WFD do LSST"
   ]
  },
  {
   "cell_type": "code",
   "execution_count": null,
   "id": "4e05bc52-de98-4269-a0fd-e41995ea9a6a",
   "metadata": {},
   "outputs": [],
   "source": [
    "df_wfd = df.copy()"
   ]
  },
  {
   "cell_type": "code",
   "execution_count": null,
   "id": "0f2bf832-c5ea-4778-8897-da419a8130e6",
   "metadata": {},
   "outputs": [],
   "source": [
    "from matplotlib.patches import Polygon\n",
    "\n",
    "vertices = [\n",
    "    (50, -44.5),\n",
    "    (52.2, -27),\n",
    "    (71.7, -27),\n",
    "    (73.5, -44.5)\n",
    "]\n",
    "\n",
    "fig, ax = plt.subplots(figsize=(10, 6))\n",
    "#ax.scatter(df['coord_radp02_object'], df['coord_decdp02_object'], s=1, alpha=0.3)\n",
    "plt.hist2d(df_wfd['coord_radp02_object'], df_wfd['coord_decdp02_object'], bins=100)\n",
    "\n",
    "\n",
    "trap = Polygon(vertices, closed=True, edgecolor='red', facecolor='none', linewidth=2)\n",
    "ax.add_patch(trap)\n",
    "\n",
    "\n",
    "ax.set_aspect('equal', adjustable='box')\n",
    "ax.grid(True, linestyle='--', linewidth=0.5)\n",
    "ax.set_xlabel(\"RA [graus]\")\n",
    "ax.set_ylabel(\"Dec [graus]\")\n",
    "plt.tight_layout()\n",
    "#plt.savefig('WFD_region.png')\n",
    "plt.show()"
   ]
  },
  {
   "cell_type": "code",
   "execution_count": null,
   "id": "e03f8333-dd23-4ea0-8377-a99c80f8ae14",
   "metadata": {},
   "outputs": [],
   "source": [
    "import numpy as np\n",
    "\n",
    "'''\n",
    "m_left = 0.1488\n",
    "b_left = 56.590\n",
    "\n",
    "m_right = -0.11905\n",
    "b_right = 68.226\n",
    "'''\n",
    "m_left = 0.1257\n",
    "b_left = 55.592\n",
    "\n",
    "m_right = -0.1029\n",
    "b_right = 68.9217\n",
    "\n",
    "\n",
    "ra = df_wfd['coord_radp02_object'].to_numpy()\n",
    "dec = df_wfd['coord_decdp02_object'].to_numpy()\n",
    "\n",
    "ra_min = m_left * dec + b_left\n",
    "ra_max = m_right * dec + b_right\n",
    "\n",
    "\n",
    "mask = (\n",
    "    (dec >= -44.5) & (dec <= -27) &\n",
    "    (ra >= ra_min) & (ra <= ra_max)\n",
    ")\n",
    "\n",
    "df_trapezio = df_wfd[mask]\n"
   ]
  },
  {
   "cell_type": "code",
   "execution_count": null,
   "id": "5e008e75-25fb-4176-943f-a93903d2ae3d",
   "metadata": {},
   "outputs": [],
   "source": [
    "df_trapezio.shape"
   ]
  },
  {
   "cell_type": "code",
   "execution_count": null,
   "id": "ed5e5492-70ba-40c1-918b-51a75125894c",
   "metadata": {},
   "outputs": [],
   "source": [
    "spatial_distribution(df_trapezio)"
   ]
  },
  {
   "cell_type": "code",
   "execution_count": null,
   "id": "ba99d87a-7e7e-4a55-9600-9e6ac5630296",
   "metadata": {
    "scrolled": true
   },
   "outputs": [],
   "source": [
    "z_hist(df_trapezio)"
   ]
  },
  {
   "cell_type": "markdown",
   "id": "f82840e5-c057-452c-819e-d145373dea98",
   "metadata": {
    "jp-MarkdownHeadingCollapsed": true
   },
   "source": [
    "## 5. Cortes de qualidade gerais"
   ]
  },
  {
   "cell_type": "code",
   "execution_count": null,
   "id": "01fa3dda-c896-4c4f-9d43-29a99d1b6ae3",
   "metadata": {},
   "outputs": [],
   "source": [
    "df_cuts = df_trapezio.copy()"
   ]
  },
  {
   "cell_type": "code",
   "execution_count": null,
   "id": "d45aa234-dba3-4a8b-91e5-dc608360fc51",
   "metadata": {},
   "outputs": [],
   "source": [
    "df_cuts.shape"
   ]
  },
  {
   "cell_type": "markdown",
   "id": "ba08bff5-5db0-4643-b323-dd3d81a07b43",
   "metadata": {},
   "source": [
    "##### Seleção de galáxias"
   ]
  },
  {
   "cell_type": "code",
   "execution_count": null,
   "id": "792db049-a952-4973-9145-541fe1ed5fd2",
   "metadata": {},
   "outputs": [],
   "source": [
    "df_cuts['truth_typedp02_truth'].value_counts()"
   ]
  },
  {
   "cell_type": "code",
   "execution_count": null,
   "id": "ac6db38e-bc99-48e3-baed-0958879c0638",
   "metadata": {},
   "outputs": [],
   "source": [
    "df_cuts = df_cuts[df_cuts['truth_typedp02_truth']==1]"
   ]
  },
  {
   "cell_type": "code",
   "execution_count": null,
   "id": "307e4b24-e882-460e-a342-f43531091bd7",
   "metadata": {},
   "outputs": [],
   "source": [
    "df_cuts = df_cuts[df_cuts['refExtendednessdp02_object']==1]\n",
    "df_cuts.shape"
   ]
  },
  {
   "cell_type": "markdown",
   "id": "944ca814-556f-460f-bfc8-e4b56596fd92",
   "metadata": {},
   "source": [
    "##### Corte de  objetos que foram ignorados pelo algoritmo de deblending"
   ]
  },
  {
   "cell_type": "code",
   "execution_count": null,
   "id": "68a3ad22-363d-46d0-bbd2-bed57dee3b87",
   "metadata": {},
   "outputs": [],
   "source": [
    "df_cuts = df_cuts[df_cuts['deblend_skippeddp02_object']==False]\n",
    "df_cuts.shape"
   ]
  },
  {
   "cell_type": "markdown",
   "id": "7d573437-80ea-4a44-b268-ee85f8429b1a",
   "metadata": {},
   "source": [
    "##### Corte de objetos que tiveram falhas no ajuste do cModel"
   ]
  },
  {
   "cell_type": "code",
   "execution_count": null,
   "id": "c905a923-bc19-47ff-82ec-d7acb09ac8f9",
   "metadata": {},
   "outputs": [],
   "source": [
    "df_cuts = df_cuts[df_cuts['i_cModel_flagdp02_object']==False]\n",
    "df_cuts.shape"
   ]
  },
  {
   "cell_type": "markdown",
   "id": "fe461f9d-b72a-4486-a2fa-a505708de957",
   "metadata": {},
   "source": [
    "##### Corte de objetos que tiveram falhas na medição do centroide"
   ]
  },
  {
   "cell_type": "code",
   "execution_count": null,
   "id": "1b62ab26-6cdf-4f8b-b5fa-08c0af0c1c63",
   "metadata": {},
   "outputs": [],
   "source": [
    "df_cuts = df_cuts[df_cuts['i_centroid_flagdp02_object']== False]\n",
    "df_cuts.shape"
   ]
  },
  {
   "cell_type": "markdown",
   "id": "dce8848d-65bc-44d8-99d5-97b19f6f5a9e",
   "metadata": {},
   "source": [
    "##### Corte de objetos com alta contaminação por vizinhos"
   ]
  },
  {
   "cell_type": "code",
   "execution_count": null,
   "id": "1c12a584-4871-42fd-bca8-9b78c64765ee",
   "metadata": {},
   "outputs": [],
   "source": [
    "df_cuts = df_cuts[df_cuts['i_blendednessdp02_object'] < (10**(-0.375))]\n",
    "df_cuts.shape"
   ]
  },
  {
   "cell_type": "markdown",
   "id": "ed703ac2-8f68-4078-a193-8555f8098285",
   "metadata": {},
   "source": [
    "##### Magnitudes limitantes"
   ]
  },
  {
   "cell_type": "code",
   "execution_count": null,
   "id": "978cb5a7-cbf3-41f4-b5ac-204b516a500a",
   "metadata": {},
   "outputs": [],
   "source": [
    "df_cuts = df_cuts[df_cuts['mag_idp02_object'] < 24.5]\n",
    "df_cuts.shape"
   ]
  },
  {
   "cell_type": "code",
   "execution_count": null,
   "id": "5e436144-a052-418c-a2fd-9b7b396530bc",
   "metadata": {},
   "outputs": [],
   "source": [
    "df_cuts = df_cuts[df_cuts['mag_idp02_object'] > 17]\n",
    "df_cuts.shape"
   ]
  },
  {
   "cell_type": "markdown",
   "id": "e441e68a-4cd9-4afb-9fdc-5c7ee4ed89b3",
   "metadata": {},
   "source": [
    "##### Restrição de S/N > 10 na banda i e S/N >5 em pelo menos duas bandas entre g/r/z/y"
   ]
  },
  {
   "cell_type": "code",
   "execution_count": null,
   "id": "39d8c4ea-30bf-475c-bc4b-55e350b1eea4",
   "metadata": {},
   "outputs": [],
   "source": [
    "df_cuts['snr_g'] = 1 / (10 ** (0.4 * df_cuts['magerr_gdp02_object']) - 1)\n",
    "df_cuts['snr_r'] = 1 / (10 ** (0.4 * df_cuts['magerr_rdp02_object']) - 1)\n",
    "df_cuts['snr_z'] = 1 / (10 ** (0.4 * df_cuts['magerr_zdp02_object']) - 1)\n",
    "df_cuts['snr_y'] = 1 / (10 ** (0.4 * df_cuts['magerr_ydp02_object']) - 1)\n",
    "df_cuts['snr_i'] = 1 / (10 ** (0.4 * df_cuts['magerr_idp02_object']) - 1)"
   ]
  },
  {
   "cell_type": "code",
   "execution_count": null,
   "id": "418392e5-d593-4a7a-b307-3e2f951a11a5",
   "metadata": {},
   "outputs": [],
   "source": [
    "snr_other_bands_gt5 = (\n",
    "    (df_cuts['snr_g'] > 5).astype(int) +\n",
    "    (df_cuts['snr_r'] > 5).astype(int) +\n",
    "    (df_cuts['snr_z'] > 5).astype(int) +\n",
    "    (df_cuts['snr_y'] > 5).astype(int)\n",
    ")"
   ]
  },
  {
   "cell_type": "code",
   "execution_count": null,
   "id": "0f5ca5a6-d415-461b-90c6-a36e86c93830",
   "metadata": {},
   "outputs": [],
   "source": [
    "snr_i_gt10 = df_cuts['snr_i'] > 10"
   ]
  },
  {
   "cell_type": "code",
   "execution_count": null,
   "id": "83ae30a2-7334-4053-adaf-72167c24bae9",
   "metadata": {},
   "outputs": [],
   "source": [
    "df_cuts['snr_i_gt10_and_two_more_gt5'] = (snr_i_gt10) & (snr_other_bands_gt5 >= 2)"
   ]
  },
  {
   "cell_type": "code",
   "execution_count": null,
   "id": "5406b932-a91e-4b44-818f-a276afc6021c",
   "metadata": {},
   "outputs": [],
   "source": [
    "df_filtrado = df_cuts[df_cuts['snr_i_gt10_and_two_more_gt5'] == True]"
   ]
  },
  {
   "cell_type": "code",
   "execution_count": null,
   "id": "9b02647c-2c76-4ad8-9745-9a3ecdf2798e",
   "metadata": {},
   "outputs": [],
   "source": [
    "df_filtrado.shape, df_cuts.shape"
   ]
  },
  {
   "cell_type": "code",
   "execution_count": null,
   "id": "dec9ef0f-b5bd-4e5e-bc24-f5bd4cfd089d",
   "metadata": {
    "scrolled": true
   },
   "outputs": [],
   "source": [
    "spatial_distribution(df_filtrado)"
   ]
  },
  {
   "cell_type": "code",
   "execution_count": null,
   "id": "155b4a96-722d-4d9e-ad19-31caaf7c6a9d",
   "metadata": {
    "scrolled": true
   },
   "outputs": [],
   "source": [
    "z_hist(df_filtrado)"
   ]
  },
  {
   "cell_type": "markdown",
   "id": "69060e0c-c6f5-4851-b909-af79b0353c3f",
   "metadata": {
    "jp-MarkdownHeadingCollapsed": true
   },
   "source": [
    "# Flags de pixel\n",
    "\n",
    "Aplicação das flags para remoção de pixels ruins "
   ]
  },
  {
   "cell_type": "code",
   "execution_count": null,
   "id": "3ae97425-96f0-469b-8d83-1c6897f3f133",
   "metadata": {},
   "outputs": [],
   "source": [
    "df_pix = df_filtrado.copy()"
   ]
  },
  {
   "cell_type": "code",
   "execution_count": null,
   "id": "de734cf3-43f2-46b0-bd77-f146ce65a71e",
   "metadata": {},
   "outputs": [],
   "source": [
    "df_pix.shape"
   ]
  },
  {
   "cell_type": "code",
   "execution_count": null,
   "id": "5764b045-b4c4-46ec-9a95-38fc7eaf22c1",
   "metadata": {},
   "outputs": [],
   "source": [
    "df_pix = df_pix[df_pix['i_pixelFlags_clippedCenterdp02_object']== False]\n",
    "df_pix.shape"
   ]
  },
  {
   "cell_type": "code",
   "execution_count": null,
   "id": "b14bd351-4245-4652-ba08-64db5d28df72",
   "metadata": {},
   "outputs": [],
   "source": [
    "df_pix = df_pix[df_pix['i_pixelFlags_crCenterdp02_object']== False]\n",
    "df_pix.shape"
   ]
  },
  {
   "cell_type": "code",
   "execution_count": null,
   "id": "6907aadc-cc87-492d-ae0c-bccdd76dd51c",
   "metadata": {},
   "outputs": [],
   "source": [
    "df_pix = df_pix[df_pix['i_pixelFlags_edgedp02_object']== False]\n",
    "df_pix.shape"
   ]
  },
  {
   "cell_type": "code",
   "execution_count": null,
   "id": "2e3b28c7-7593-427f-8b1a-015185b42ed8",
   "metadata": {},
   "outputs": [],
   "source": [
    "df_pix = df_pix[df_pix['i_pixelFlags_interpolatedCenterdp02_object']== False]\n",
    "df_pix.shape"
   ]
  },
  {
   "cell_type": "code",
   "execution_count": null,
   "id": "6dc90117-2687-491c-88d5-145b26d849fa",
   "metadata": {},
   "outputs": [],
   "source": [
    "df_pix = df_pix[df_pix['i_pixelFlags_offimagedp02_object']== False]\n",
    "df_pix.shape"
   ]
  },
  {
   "cell_type": "code",
   "execution_count": null,
   "id": "e8f463a8-daa9-425d-8568-0cd739ad0137",
   "metadata": {},
   "outputs": [],
   "source": [
    "df_pix = df_pix[df_pix['i_pixelFlags_saturatedCenterdp02_object']== False]\n",
    "df_pix.shape"
   ]
  },
  {
   "cell_type": "code",
   "execution_count": null,
   "id": "23d3cf0b-07fb-4e4d-aeb7-65aca4dfaee0",
   "metadata": {},
   "outputs": [],
   "source": [
    "df_pix = df_pix[df_pix['i_pixelFlags_suspectCenterdp02_object']== False]\n",
    "df_pix.shape"
   ]
  },
  {
   "cell_type": "code",
   "execution_count": null,
   "id": "379dec3a-5a70-422d-bbcf-6c794a4b5d17",
   "metadata": {},
   "outputs": [],
   "source": [
    "df_pix = df_pix[df_pix['i_pixelFlags_baddp02_object']== False]\n",
    "df_pix.shape"
   ]
  },
  {
   "cell_type": "code",
   "execution_count": null,
   "id": "b0535397-d8c9-430a-8619-b73b430df8b2",
   "metadata": {},
   "outputs": [],
   "source": [
    "df_pix = df_pix[df_pix['i_pixelFlags_clippeddp02_object']== False]\n",
    "df_pix.shape"
   ]
  },
  {
   "cell_type": "code",
   "execution_count": null,
   "id": "b261b125-4bff-4845-b88a-0d7a9d4aeda7",
   "metadata": {},
   "outputs": [],
   "source": [
    "df_pix = df_pix[df_pix['i_pixelFlags_crdp02_object']== False]\n",
    "df_pix.shape"
   ]
  },
  {
   "cell_type": "code",
   "execution_count": null,
   "id": "ec609556-a0c0-49e5-aeaf-bbdb741c9a27",
   "metadata": {},
   "outputs": [],
   "source": [
    "df_pix = df_pix[df_pix['i_pixelFlags_interpolateddp02_object']== False]\n",
    "df_pix.shape"
   ]
  },
  {
   "cell_type": "code",
   "execution_count": null,
   "id": "2ede1f3c-1a0c-45d1-89dc-b7c4488a8f42",
   "metadata": {},
   "outputs": [],
   "source": [
    "df_pix = df_pix[df_pix['i_pixelFlags_offimagedp02_object']== False]\n",
    "df_pix.shape"
   ]
  },
  {
   "cell_type": "code",
   "execution_count": null,
   "id": "b5567298-95d1-426b-892f-1f591ba44edd",
   "metadata": {},
   "outputs": [],
   "source": [
    "df_pix = df_pix[df_pix['i_pixelFlags_saturateddp02_object']== False]\n",
    "df_pix.shape"
   ]
  },
  {
   "cell_type": "code",
   "execution_count": null,
   "id": "8dfe2eb1-c617-4c41-92a5-a05817867578",
   "metadata": {},
   "outputs": [],
   "source": [
    "df_pix = df_pix[df_pix['i_pixelFlags_suspectdp02_object']== False]\n",
    "df_pix.shape"
   ]
  },
  {
   "cell_type": "markdown",
   "id": "be43ef3f-8c11-43fc-b740-351aeea6ebbc",
   "metadata": {
    "jp-MarkdownHeadingCollapsed": true
   },
   "source": [
    "# Não detecções\n",
    "Tratando magnitudes com alto blendedness como não detecções(NaN)."
   ]
  },
  {
   "cell_type": "code",
   "execution_count": null,
   "id": "45ef5d33-a026-47f9-b680-7ce07a6061ff",
   "metadata": {},
   "outputs": [],
   "source": [
    "df_nan = df_pix.copy()\n",
    "df_nan.shape"
   ]
  },
  {
   "cell_type": "code",
   "execution_count": null,
   "id": "aa3c7ce1-4dea-4cbc-9382-154d225ba5e5",
   "metadata": {},
   "outputs": [],
   "source": [
    "magnitude_cols = [col for col in df.columns if 'mag_' in col]\n",
    "\n",
    "df_nan[magnitude_cols] = df_nan[magnitude_cols].where(df_nan[magnitude_cols] <= 60, np.nan)\n",
    "#df_nan[magnitude_cols] = df_nan[magnitude_cols].fillna(99.0)"
   ]
  },
  {
   "cell_type": "code",
   "execution_count": null,
   "id": "46761698-4aa7-47f8-884c-c01813b221af",
   "metadata": {},
   "outputs": [],
   "source": [
    "df_nan.shape"
   ]
  },
  {
   "cell_type": "code",
   "execution_count": null,
   "id": "c0cec860-75eb-4a03-bda0-b93878a47990",
   "metadata": {
    "scrolled": true
   },
   "outputs": [],
   "source": [
    "mag_histogram(df_nan)"
   ]
  },
  {
   "cell_type": "code",
   "execution_count": null,
   "id": "002c3e7a-a2f8-42c8-a228-56cd6d33043d",
   "metadata": {
    "scrolled": true
   },
   "outputs": [],
   "source": [
    "mag_error(df_nan)"
   ]
  },
  {
   "cell_type": "code",
   "execution_count": null,
   "id": "963b6363-9541-42d8-86a5-124c59b8cbc3",
   "metadata": {
    "scrolled": true
   },
   "outputs": [],
   "source": [
    "color_color(df_nan)"
   ]
  },
  {
   "cell_type": "markdown",
   "id": "b111ae8f-a35a-4c73-92a6-5cbb5f9671ad",
   "metadata": {
    "jp-MarkdownHeadingCollapsed": true
   },
   "source": [
    "# Cores \n",
    "Adicionando cores e seus respectivos erros."
   ]
  },
  {
   "cell_type": "code",
   "execution_count": null,
   "id": "55599656-4eb6-4903-9d98-64319a5dc0a6",
   "metadata": {},
   "outputs": [],
   "source": [
    "df_nan['u-g'] = df_nan['mag_udp02_object'] - df_nan['mag_gdp02_object']\n",
    "df_nan['g-r'] = df_nan['mag_gdp02_object'] - df_nan['mag_rdp02_object']\n",
    "df_nan['r-i'] = df_nan['mag_rdp02_object'] - df_nan['mag_idp02_object']\n",
    "df_nan['i-z'] = df_nan['mag_idp02_object'] - df_nan['mag_zdp02_object']\n",
    "df_nan['z-y'] = df_nan['mag_zdp02_object'] - df_nan['mag_ydp02_object']"
   ]
  },
  {
   "cell_type": "code",
   "execution_count": null,
   "id": "83c1a915-0274-4c4f-a4cb-bc0184364416",
   "metadata": {},
   "outputs": [],
   "source": [
    "df_nan['u-g_err'] = np.sqrt((df_nan['magerr_udp02_object'])**2 + (df_nan['magerr_gdp02_object'])**2)\n",
    "df_nan['g-r_err'] = np.sqrt((df_nan['magerr_gdp02_object'])**2 + (df_nan['magerr_rdp02_object'])**2)\n",
    "df_nan['r-i_err'] = np.sqrt((df_nan['magerr_rdp02_object'])**2 + (df_nan['magerr_idp02_object'])**2)\n",
    "df_nan['i-z_err'] = np.sqrt((df_nan['magerr_idp02_object'])**2 + (df_nan['magerr_zdp02_object'])**2)\n",
    "df_nan['z-y_err'] = np.sqrt((df_nan['magerr_zdp02_object'])**2 + (df_nan['magerr_ydp02_object'])**2)"
   ]
  },
  {
   "cell_type": "markdown",
   "id": "024a9c57-25c6-4496-a03d-beaf25b7d515",
   "metadata": {
    "jp-MarkdownHeadingCollapsed": true
   },
   "source": [
    "# Training set"
   ]
  },
  {
   "cell_type": "code",
   "execution_count": null,
   "id": "541ce0f8-58ea-4017-b077-5edd3b7282b9",
   "metadata": {},
   "outputs": [],
   "source": [
    "df_final = df_nan.copy()"
   ]
  },
  {
   "cell_type": "markdown",
   "id": "ed3964b8-f86c-45f7-8e03-c052c28a09e4",
   "metadata": {},
   "source": [
    "##### Mantendo medidas de magnitudes erros NaN em concordância"
   ]
  },
  {
   "cell_type": "code",
   "execution_count": null,
   "id": "74fdc98f-9be0-49d9-a10b-c0649bd91811",
   "metadata": {},
   "outputs": [],
   "source": [
    "for b in ['u', 'g', 'r', 'i', 'z', 'y']:\n",
    "    mag = f\"mag_{b}dp02_object\"\n",
    "    magerr = f\"magerr_{b}dp02_object\"\n",
    "    \n",
    "    df_final.loc[df_final[mag].notna() & df_final[magerr].isna(), mag] = np.nan\n",
    "    df_final.loc[df_final[mag].isna() & df_final[magerr].notna(), magerr] = np.nan"
   ]
  },
  {
   "cell_type": "code",
   "execution_count": null,
   "id": "86e1f2be-f084-4890-a10e-1e2ba190e4ad",
   "metadata": {},
   "outputs": [],
   "source": [
    "df_final['mag_udp02_object'].isna().sum()"
   ]
  },
  {
   "cell_type": "code",
   "execution_count": null,
   "id": "31b3df35-b759-4bc1-b9e2-70a53a8bbb85",
   "metadata": {},
   "outputs": [],
   "source": [
    "inconsistentes = (\n",
    "    df_final[\"mag_ydp02_object\"].notna() & df_final[\"magerr_ydp02_object\"].isna()\n",
    ")| (df_final[\"mag_ydp02_object\"].isna() & df_final[\"magerr_ydp02_object\"].notna())\n",
    "\n",
    "df_inconsistentes = df_final[inconsistentes]\n",
    "df_inconsistentes"
   ]
  },
  {
   "cell_type": "markdown",
   "id": "a61c17eb-367a-4af5-b2a2-b14a9e21a72d",
   "metadata": {},
   "source": [
    "##### Selecionando ~100000 objetos para o training set final"
   ]
  },
  {
   "cell_type": "code",
   "execution_count": null,
   "id": "265f6f66-c8b9-4950-b069-732f5058a46a",
   "metadata": {},
   "outputs": [],
   "source": [
    "df_training_set= df_final.sample(frac=0.4827, random_state=42)\n",
    "df_training_set"
   ]
  },
  {
   "cell_type": "code",
   "execution_count": null,
   "id": "58a7b3c8-2ddc-4f06-8fe5-c2c1d59423a8",
   "metadata": {},
   "outputs": [],
   "source": [
    "colunas = ['mag_udp02_object', 'mag_gdp02_object', 'mag_rdp02_object', 'mag_idp02_object', 'mag_zdp02_object', 'mag_ydp02_object']\n",
    "df_training_set[colunas].count()"
   ]
  },
  {
   "cell_type": "code",
   "execution_count": null,
   "id": "d0049698-bed2-4e75-ba39-3c926593bad1",
   "metadata": {
    "scrolled": true
   },
   "outputs": [],
   "source": [
    "mag_z(df_training_set)"
   ]
  },
  {
   "cell_type": "code",
   "execution_count": null,
   "id": "e70451ea-81c2-4f33-8f0d-5d85724b03e1",
   "metadata": {},
   "outputs": [],
   "source": [
    "z_hist(df_training_set)"
   ]
  },
  {
   "cell_type": "code",
   "execution_count": null,
   "id": "6ea32b4e-98d7-445d-854b-20542b970586",
   "metadata": {},
   "outputs": [],
   "source": [
    "mag_histogram(df_training_set)"
   ]
  },
  {
   "cell_type": "code",
   "execution_count": null,
   "id": "681033f7-1e36-459c-9a44-60bf8e96aa57",
   "metadata": {
    "scrolled": true
   },
   "outputs": [],
   "source": [
    "spatial_distribution(df_training_set)"
   ]
  },
  {
   "cell_type": "markdown",
   "id": "fe29e091-e7e1-40c9-8171-401ae38a3167",
   "metadata": {},
   "source": [
    "##### Salvando o training set em arquivo .parquet"
   ]
  },
  {
   "cell_type": "code",
   "execution_count": null,
   "id": "f413efd0-a416-4eeb-827a-d0111f5c2a32",
   "metadata": {},
   "outputs": [],
   "source": [
    "df_training_set.to_parquet('../dados_tcc/training_sets/training_set.parquet')"
   ]
  }
 ],
 "metadata": {
  "kernelspec": {
   "display_name": "data_preparation",
   "language": "python",
   "name": "data_preparation"
  },
  "language_info": {
   "codemirror_mode": {
    "name": "ipython",
    "version": 3
   },
   "file_extension": ".py",
   "mimetype": "text/x-python",
   "name": "python",
   "nbconvert_exporter": "python",
   "pygments_lexer": "ipython3",
   "version": "3.12.11"
  }
 },
 "nbformat": 4,
 "nbformat_minor": 5
}
